{
  "nbformat": 4,
  "nbformat_minor": 0,
  "metadata": {
    "colab": {
      "name": "Assignment.ipynb",
      "provenance": [],
      "authorship_tag": "ABX9TyPMXbuCXfaHjifItqzqa5lU",
      "include_colab_link": true
    },
    "kernelspec": {
      "name": "python3",
      "display_name": "Python 3"
    },
    "language_info": {
      "name": "python"
    }
  },
  "cells": [
    {
      "cell_type": "markdown",
      "metadata": {
        "id": "view-in-github",
        "colab_type": "text"
      },
      "source": [
        "<a href=\"https://colab.research.google.com/github/gritika18/MLnow_2.0/blob/main/Assignment.ipynb\" target=\"_parent\"><img src=\"https://colab.research.google.com/assets/colab-badge.svg\" alt=\"Open In Colab\"/></a>"
      ]
    },
    {
      "cell_type": "code",
      "metadata": {
        "colab": {
          "base_uri": "https://localhost:8080/"
        },
        "id": "uFsizC7HJvQ6",
        "outputId": "6dae0cd9-aa21-4136-99ac-396048d00019"
      },
      "source": [
        "from google.colab import drive\n",
        "drive.mount('/content/drive')"
      ],
      "execution_count": 1,
      "outputs": [
        {
          "output_type": "stream",
          "text": [
            "Mounted at /content/drive\n"
          ],
          "name": "stdout"
        }
      ]
    },
    {
      "cell_type": "code",
      "metadata": {
        "id": "mUI8MThFMfX_",
        "colab": {
          "base_uri": "https://localhost:8080/"
        },
        "outputId": "3744edfd-4721-4676-dfd4-fe0cd5e564cb"
      },
      "source": [
        "cd '/content/drive/MyDrive/MLCodeSession/student'"
      ],
      "execution_count": 2,
      "outputs": [
        {
          "output_type": "stream",
          "text": [
            "/content/drive/MyDrive/MLCodeSession/student\n"
          ],
          "name": "stdout"
        }
      ]
    },
    {
      "cell_type": "code",
      "metadata": {
        "colab": {
          "base_uri": "https://localhost:8080/"
        },
        "id": "ACNC8QPUzI4l",
        "outputId": "d54ef503-da3c-4189-9a70-614207d58e27"
      },
      "source": [
        "ls"
      ],
      "execution_count": 3,
      "outputs": [
        {
          "output_type": "stream",
          "text": [
            "cleanedMathData.csv  student-merge.R  student.txt\n",
            "student-mat.csv      student-por.csv  univariate_MathData_2.csv\n"
          ],
          "name": "stdout"
        }
      ]
    },
    {
      "cell_type": "code",
      "metadata": {
        "id": "9btoG1r7LIUn"
      },
      "source": [
        "import pandas as pd\n",
        "import numpy as np\n",
        "import tensorflow as tf\n",
        "from tensorflow import keras\n",
        "import os"
      ],
      "execution_count": 4,
      "outputs": []
    },
    {
      "cell_type": "code",
      "metadata": {
        "id": "tb5UZXNRz4Cs"
      },
      "source": [
        "mathData = pd.read_csv('cleanedMathData.csv')"
      ],
      "execution_count": 5,
      "outputs": []
    },
    {
      "cell_type": "code",
      "metadata": {
        "colab": {
          "base_uri": "https://localhost:8080/",
          "height": 195
        },
        "id": "izOSeGzxwPoq",
        "outputId": "70c0e0b2-7401-42e3-f9a9-75e3115d67b0"
      },
      "source": [
        "mathData.head()"
      ],
      "execution_count": 6,
      "outputs": [
        {
          "output_type": "execute_result",
          "data": {
            "text/html": [
              "<div>\n",
              "<style scoped>\n",
              "    .dataframe tbody tr th:only-of-type {\n",
              "        vertical-align: middle;\n",
              "    }\n",
              "\n",
              "    .dataframe tbody tr th {\n",
              "        vertical-align: top;\n",
              "    }\n",
              "\n",
              "    .dataframe thead th {\n",
              "        text-align: right;\n",
              "    }\n",
              "</style>\n",
              "<table border=\"1\" class=\"dataframe\">\n",
              "  <thead>\n",
              "    <tr style=\"text-align: right;\">\n",
              "      <th></th>\n",
              "      <th>Unnamed: 0</th>\n",
              "      <th>school</th>\n",
              "      <th>sex</th>\n",
              "      <th>address</th>\n",
              "      <th>Mjob</th>\n",
              "      <th>Fjob</th>\n",
              "      <th>higher</th>\n",
              "      <th>freetime</th>\n",
              "      <th>studytime</th>\n",
              "      <th>absences</th>\n",
              "      <th>G1</th>\n",
              "      <th>G2</th>\n",
              "      <th>G3</th>\n",
              "    </tr>\n",
              "  </thead>\n",
              "  <tbody>\n",
              "    <tr>\n",
              "      <th>0</th>\n",
              "      <td>0</td>\n",
              "      <td>1</td>\n",
              "      <td>1</td>\n",
              "      <td>1</td>\n",
              "      <td>1</td>\n",
              "      <td>5</td>\n",
              "      <td>1</td>\n",
              "      <td>3</td>\n",
              "      <td>2</td>\n",
              "      <td>6</td>\n",
              "      <td>5</td>\n",
              "      <td>6</td>\n",
              "      <td>6</td>\n",
              "    </tr>\n",
              "    <tr>\n",
              "      <th>1</th>\n",
              "      <td>1</td>\n",
              "      <td>1</td>\n",
              "      <td>1</td>\n",
              "      <td>1</td>\n",
              "      <td>1</td>\n",
              "      <td>3</td>\n",
              "      <td>1</td>\n",
              "      <td>3</td>\n",
              "      <td>2</td>\n",
              "      <td>4</td>\n",
              "      <td>5</td>\n",
              "      <td>5</td>\n",
              "      <td>6</td>\n",
              "    </tr>\n",
              "    <tr>\n",
              "      <th>2</th>\n",
              "      <td>2</td>\n",
              "      <td>1</td>\n",
              "      <td>1</td>\n",
              "      <td>1</td>\n",
              "      <td>1</td>\n",
              "      <td>3</td>\n",
              "      <td>1</td>\n",
              "      <td>3</td>\n",
              "      <td>2</td>\n",
              "      <td>10</td>\n",
              "      <td>7</td>\n",
              "      <td>8</td>\n",
              "      <td>10</td>\n",
              "    </tr>\n",
              "    <tr>\n",
              "      <th>3</th>\n",
              "      <td>3</td>\n",
              "      <td>1</td>\n",
              "      <td>1</td>\n",
              "      <td>1</td>\n",
              "      <td>2</td>\n",
              "      <td>4</td>\n",
              "      <td>1</td>\n",
              "      <td>2</td>\n",
              "      <td>3</td>\n",
              "      <td>2</td>\n",
              "      <td>15</td>\n",
              "      <td>14</td>\n",
              "      <td>15</td>\n",
              "    </tr>\n",
              "    <tr>\n",
              "      <th>4</th>\n",
              "      <td>4</td>\n",
              "      <td>1</td>\n",
              "      <td>1</td>\n",
              "      <td>1</td>\n",
              "      <td>3</td>\n",
              "      <td>3</td>\n",
              "      <td>1</td>\n",
              "      <td>3</td>\n",
              "      <td>2</td>\n",
              "      <td>4</td>\n",
              "      <td>6</td>\n",
              "      <td>10</td>\n",
              "      <td>10</td>\n",
              "    </tr>\n",
              "  </tbody>\n",
              "</table>\n",
              "</div>"
            ],
            "text/plain": [
              "   Unnamed: 0  school  sex  address  Mjob  ...  studytime  absences  G1  G2  G3\n",
              "0           0       1    1        1     1  ...          2         6   5   6   6\n",
              "1           1       1    1        1     1  ...          2         4   5   5   6\n",
              "2           2       1    1        1     1  ...          2        10   7   8  10\n",
              "3           3       1    1        1     2  ...          3         2  15  14  15\n",
              "4           4       1    1        1     3  ...          2         4   6  10  10\n",
              "\n",
              "[5 rows x 13 columns]"
            ]
          },
          "metadata": {
            "tags": []
          },
          "execution_count": 6
        }
      ]
    },
    {
      "cell_type": "markdown",
      "metadata": {
        "id": "iNRpwHuGXIK9"
      },
      "source": [
        "#Data Visualization"
      ]
    },
    {
      "cell_type": "code",
      "metadata": {
        "colab": {
          "base_uri": "https://localhost:8080/",
          "height": 157
        },
        "id": "lIVjJq3qWm7P",
        "outputId": "08c550d4-7bb5-40e7-e95e-27a75a2dae7a"
      },
      "source": [
        "import seaborn as sns\n",
        "sns.palplot(sns.color_palette('PuOr', 12)) \n",
        "# pal = sns.color_palette('PuOr', 12)     \n",
        "# pal.as_hex()                            \n",
        "\n",
        "import matplotlib.pyplot as plt\n",
        "plt.style.use(['seaborn'])\n",
        "sns_colors = ['#c6690c', '#664697']        \n",
        "sns.set_palette(sns_colors)                 \n",
        "sns.palplot(sns.color_palette(sns_colors))"
      ],
      "execution_count": 7,
      "outputs": [
        {
          "output_type": "display_data",
          "data": {
            "image/png": "[encoded data removed]",
            "text/plain": [
              "<Figure size 864x72 with 1 Axes>"
            ]
          },
          "metadata": {
            "tags": [],
            "needs_background": "light"
          }
        },
        {
          "output_type": "display_data",
          "data": {
            "image/png": "[encoded data removed]",
            "text/plain": [
              "<Figure size 144x72 with 1 Axes>"
            ]
          },
          "metadata": {
            "tags": []
          }
        }
      ]
    },
    {
      "cell_type": "code",
      "metadata": {
        "colab": {
          "base_uri": "https://localhost:8080/",
          "height": 567
        },
        "id": "7lTwl4m81SbB",
        "outputId": "6dd09435-6337-4de8-d70f-e52cdb73b97e"
      },
      "source": [
        "sns.pairplot(mathData,\n",
        "             x_vars = [ 'G3', 'freetime', 'studytime', 'absences' ],\n",
        "             y_vars = ['G1', 'G2', 'G3'],\n",
        "       diag_kind='kde'\n",
        "             )"
      ],
      "execution_count": 8,
      "outputs": [
        {
          "output_type": "execute_result",
          "data": {
            "text/plain": [
              "<seaborn.axisgrid.PairGrid at 0x7fc0a717bcd0>"
            ]
          },
          "metadata": {
            "tags": []
          },
          "execution_count": 8
        },
        {
          "output_type": "display_data",
          "data": {
            "image/png": "[encoded data removed]",
            "text/plain": [
              "<Figure size 720x540 with 13 Axes>"
            ]
          },
          "metadata": {
            "tags": []
          }
        }
      ]
    },
    {
      "cell_type": "code",
      "metadata": {
        "colab": {
          "base_uri": "https://localhost:8080/",
          "height": 378
        },
        "id": "dbFxHvrSwnLd",
        "outputId": "7bccc846-9556-4124-b438-cde137e60aef"
      },
      "source": [
        "sns.stripplot(y='G2', x='G3', data=mathData)"
      ],
      "execution_count": 9,
      "outputs": [
        {
          "output_type": "execute_result",
          "data": {
            "text/plain": [
              "<matplotlib.axes._subplots.AxesSubplot at 0x7fc0a7184b50>"
            ]
          },
          "metadata": {
            "tags": []
          },
          "execution_count": 9
        },
        {
          "output_type": "display_data",
          "data": {
            "image/png": "[encoded data removed]",
            "text/plain": [
              "<Figure size 576x396 with 1 Axes>"
            ]
          },
          "metadata": {
            "tags": []
          }
        }
      ]
    },
    {
      "cell_type": "code",
      "metadata": {
        "id": "w-S-tfsa2xBr",
        "colab": {
          "base_uri": "https://localhost:8080/",
          "height": 195
        },
        "outputId": "160ce0c7-83cc-4e64-fc79-3ed709050fd8"
      },
      "source": [
        "uniMathData = mathData[['G2', 'G3']]\n",
        "uniMathData.head()"
      ],
      "execution_count": 10,
      "outputs": [
        {
          "output_type": "execute_result",
          "data": {
            "text/html": [
              "<div>\n",
              "<style scoped>\n",
              "    .dataframe tbody tr th:only-of-type {\n",
              "        vertical-align: middle;\n",
              "    }\n",
              "\n",
              "    .dataframe tbody tr th {\n",
              "        vertical-align: top;\n",
              "    }\n",
              "\n",
              "    .dataframe thead th {\n",
              "        text-align: right;\n",
              "    }\n",
              "</style>\n",
              "<table border=\"1\" class=\"dataframe\">\n",
              "  <thead>\n",
              "    <tr style=\"text-align: right;\">\n",
              "      <th></th>\n",
              "      <th>G2</th>\n",
              "      <th>G3</th>\n",
              "    </tr>\n",
              "  </thead>\n",
              "  <tbody>\n",
              "    <tr>\n",
              "      <th>0</th>\n",
              "      <td>6</td>\n",
              "      <td>6</td>\n",
              "    </tr>\n",
              "    <tr>\n",
              "      <th>1</th>\n",
              "      <td>5</td>\n",
              "      <td>6</td>\n",
              "    </tr>\n",
              "    <tr>\n",
              "      <th>2</th>\n",
              "      <td>8</td>\n",
              "      <td>10</td>\n",
              "    </tr>\n",
              "    <tr>\n",
              "      <th>3</th>\n",
              "      <td>14</td>\n",
              "      <td>15</td>\n",
              "    </tr>\n",
              "    <tr>\n",
              "      <th>4</th>\n",
              "      <td>10</td>\n",
              "      <td>10</td>\n",
              "    </tr>\n",
              "  </tbody>\n",
              "</table>\n",
              "</div>"
            ],
            "text/plain": [
              "   G2  G3\n",
              "0   6   6\n",
              "1   5   6\n",
              "2   8  10\n",
              "3  14  15\n",
              "4  10  10"
            ]
          },
          "metadata": {
            "tags": []
          },
          "execution_count": 10
        }
      ]
    },
    {
      "cell_type": "code",
      "metadata": {
        "id": "7DU1ObwR7Y1w",
        "colab": {
          "base_uri": "https://localhost:8080/",
          "height": 391
        },
        "outputId": "3b7b29d7-eb7b-4b00-fd17-dbe4f480585d"
      },
      "source": [
        "sns.pairplot(uniMathData,\n",
        "             x_vars = ['G2', 'G3'],\n",
        "             y_vars =  ['G2', 'G3'],\n",
        "       diag_kind='kde'\n",
        "             )"
      ],
      "execution_count": 11,
      "outputs": [
        {
          "output_type": "execute_result",
          "data": {
            "text/plain": [
              "<seaborn.axisgrid.PairGrid at 0x7fc0994fc6d0>"
            ]
          },
          "metadata": {
            "tags": []
          },
          "execution_count": 11
        },
        {
          "output_type": "display_data",
          "data": {
            "image/png": "[encoded data removed]",
            "text/plain": [
              "<Figure size 360x360 with 6 Axes>"
            ]
          },
          "metadata": {
            "tags": []
          }
        }
      ]
    },
    {
      "cell_type": "markdown",
      "metadata": {
        "id": "8Ltou1jc7l6a"
      },
      "source": [
        "#Data Splits"
      ]
    },
    {
      "cell_type": "code",
      "metadata": {
        "id": "UyfASfE67okJ",
        "colab": {
          "base_uri": "https://localhost:8080/"
        },
        "outputId": "5ea58401-2003-4b40-d669-0e55ec2adb3f"
      },
      "source": [
        "trainDataset = uniMathData.sample(frac=0.8, random_state=0) \n",
        "testDataset = uniMathData.drop(trainDataset.index)\n",
        "\n",
        "print(trainDataset.head())\n",
        "print(testDataset.head())"
      ],
      "execution_count": 12,
      "outputs": [
        {
          "output_type": "stream",
          "text": [
            "     G2  G3\n",
            "329  14  14\n",
            "318  11  10\n",
            "317  10   9\n",
            "65   15  15\n",
            "59   16  16\n",
            "    G2  G3\n",
            "9   15  15\n",
            "25   9   8\n",
            "28  11  11\n",
            "31  16  17\n",
            "32  16  16\n"
          ],
          "name": "stdout"
        }
      ]
    },
    {
      "cell_type": "code",
      "metadata": {
        "id": "vy3DsoZTAoFP",
        "colab": {
          "base_uri": "https://localhost:8080/"
        },
        "outputId": "4bca01f4-8a3f-40c2-96af-2c9d6b264954"
      },
      "source": [
        "print(trainDataset.shape)\n",
        "print(testDataset.shape)"
      ],
      "execution_count": 13,
      "outputs": [
        {
          "output_type": "stream",
          "text": [
            "(316, 2)\n",
            "(79, 2)\n"
          ],
          "name": "stdout"
        }
      ]
    },
    {
      "cell_type": "code",
      "metadata": {
        "id": "m6eCvleAA1gR",
        "colab": {
          "base_uri": "https://localhost:8080/"
        },
        "outputId": "ed886ba1-e2ee-434b-fa05-8dc232b696b0"
      },
      "source": [
        "trainFeatures = trainDataset.copy()\n",
        "testFeatures = testDataset.copy()\n",
        "\n",
        "trainLabels = trainFeatures.pop('G3')\n",
        "testLabels = testFeatures.pop('G3')\n",
        "\n",
        "print(trainLabels.head())\n",
        "print(testLabels.head())"
      ],
      "execution_count": 14,
      "outputs": [
        {
          "output_type": "stream",
          "text": [
            "329    14\n",
            "318    10\n",
            "317     9\n",
            "65     15\n",
            "59     16\n",
            "Name: G3, dtype: int64\n",
            "9     15\n",
            "25     8\n",
            "28    11\n",
            "31    17\n",
            "32    16\n",
            "Name: G3, dtype: int64\n"
          ],
          "name": "stdout"
        }
      ]
    },
    {
      "cell_type": "code",
      "metadata": {
        "id": "uOFPa0N2BBHR",
        "colab": {
          "base_uri": "https://localhost:8080/"
        },
        "outputId": "ee79031c-24d1-42f8-9e4f-d1b7a6e46922"
      },
      "source": [
        "print(trainFeatures.head())\n",
        "print(testFeatures.head())"
      ],
      "execution_count": 15,
      "outputs": [
        {
          "output_type": "stream",
          "text": [
            "     G2\n",
            "329  14\n",
            "318  11\n",
            "317  10\n",
            "65   15\n",
            "59   16\n",
            "    G2\n",
            "9   15\n",
            "25   9\n",
            "28  11\n",
            "31  16\n",
            "32  16\n"
          ],
          "name": "stdout"
        }
      ]
    },
    {
      "cell_type": "code",
      "metadata": {
        "id": "WrgPytAmDyv_"
      },
      "source": [
        "model = tf.keras.Sequential([\n",
        "                             tf.keras.layers.Dense(1)\n",
        "])"
      ],
      "execution_count": 16,
      "outputs": []
    },
    {
      "cell_type": "code",
      "metadata": {
        "id": "sHkRjGGpEDFL"
      },
      "source": [
        "model.compile(\n",
        "    loss = 'mean_absolute_error',  \n",
        "    optimizer = tf.keras.optimizers.Adam(0.001),\n",
        "    metrics = ['mae', 'mse'] \n",
        ")"
      ],
      "execution_count": 17,
      "outputs": []
    },
    {
      "cell_type": "code",
      "metadata": {
        "id": "ob5i2jWiExjJ",
        "colab": {
          "base_uri": "https://localhost:8080/"
        },
        "outputId": "af2b1a73-29fb-4844-c13a-c1a27910ae3f"
      },
      "source": [
        "numEpochs = 500\n",
        "history = model.fit(x = trainFeatures, y = trainLabels, validation_data = (testFeatures, testLabels), epochs = numEpochs)"
      ],
      "execution_count": 18,
      "outputs": [
        {
          "output_type": "stream",
          "text": [
            "Epoch 1/500\n",
            "10/10 [==============================] - 1s 19ms/step - loss: 24.0262 - mae: 24.0262 - mse: 660.4989 - val_loss: 25.1016 - val_mae: 25.1016 - val_mse: 718.9924\n",
            "Epoch 2/500\n",
            "10/10 [==============================] - 0s 3ms/step - loss: 23.9107 - mae: 23.9107 - mse: 654.2642 - val_loss: 24.9816 - val_mae: 24.9816 - val_mse: 712.2197\n",
            "Epoch 3/500\n",
            "10/10 [==============================] - 0s 3ms/step - loss: 23.7949 - mae: 23.7949 - mse: 648.0291 - val_loss: 24.8619 - val_mae: 24.8619 - val_mse: 705.5018\n",
            "Epoch 4/500\n",
            "10/10 [==============================] - 0s 3ms/step - loss: 23.6800 - mae: 23.6800 - mse: 641.9454 - val_loss: 24.7417 - val_mae: 24.7417 - val_mse: 698.7862\n",
            "Epoch 5/500\n",
            "10/10 [==============================] - 0s 4ms/step - loss: 23.5648 - mae: 23.5648 - mse: 635.8661 - val_loss: 24.6214 - val_mae: 24.6214 - val_mse: 692.0968\n",
            "Epoch 6/500\n",
            "10/10 [==============================] - 0s 3ms/step - loss: 23.4495 - mae: 23.4495 - mse: 629.7751 - val_loss: 24.5015 - val_mae: 24.5015 - val_mse: 685.4572\n",
            "Epoch 7/500\n",
            "10/10 [==============================] - 0s 5ms/step - loss: 23.3336 - mae: 23.3336 - mse: 623.6654 - val_loss: 24.3820 - val_mae: 24.3820 - val_mse: 678.8801\n",
            "Epoch 8/500\n",
            "10/10 [==============================] - 0s 3ms/step - loss: 23.2176 - mae: 23.2176 - mse: 617.5332 - val_loss: 24.2630 - val_mae: 24.2630 - val_mse: 672.3541\n",
            "Epoch 9/500\n",
            "10/10 [==============================] - 0s 4ms/step - loss: 23.1030 - mae: 23.1030 - mse: 611.5817 - val_loss: 24.1431 - val_mae: 24.1431 - val_mse: 665.8174\n",
            "Epoch 10/500\n",
            "10/10 [==============================] - 0s 3ms/step - loss: 22.9873 - mae: 22.9873 - mse: 605.5311 - val_loss: 24.0235 - val_mae: 24.0235 - val_mse: 659.3254\n",
            "Epoch 11/500\n",
            "10/10 [==============================] - 0s 3ms/step - loss: 22.8724 - mae: 22.8724 - mse: 599.6587 - val_loss: 23.9033 - val_mae: 23.9033 - val_mse: 652.8334\n",
            "Epoch 12/500\n",
            "10/10 [==============================] - 0s 3ms/step - loss: 22.7557 - mae: 22.7557 - mse: 593.6013 - val_loss: 23.7843 - val_mae: 23.7843 - val_mse: 646.4393\n",
            "Epoch 13/500\n",
            "10/10 [==============================] - 0s 3ms/step - loss: 22.6415 - mae: 22.6415 - mse: 587.8259 - val_loss: 23.6640 - val_mae: 23.6640 - val_mse: 640.0079\n",
            "Epoch 14/500\n",
            "10/10 [==============================] - 0s 4ms/step - loss: 22.5252 - mae: 22.5252 - mse: 581.8948 - val_loss: 23.5446 - val_mae: 23.5446 - val_mse: 633.6534\n",
            "Epoch 15/500\n",
            "10/10 [==============================] - 0s 3ms/step - loss: 22.4105 - mae: 22.4105 - mse: 576.1149 - val_loss: 23.4243 - val_mae: 23.4243 - val_mse: 627.2899\n",
            "Epoch 16/500\n",
            "10/10 [==============================] - 0s 3ms/step - loss: 22.2951 - mae: 22.2951 - mse: 570.3248 - val_loss: 23.3041 - val_mae: 23.3041 - val_mse: 620.9601\n",
            "Epoch 17/500\n",
            "10/10 [==============================] - 0s 3ms/step - loss: 22.1788 - mae: 22.1788 - mse: 564.4351 - val_loss: 23.1848 - val_mae: 23.1848 - val_mse: 614.7070\n",
            "Epoch 18/500\n",
            "10/10 [==============================] - 0s 4ms/step - loss: 22.0644 - mae: 22.0644 - mse: 558.8324 - val_loss: 23.0645 - val_mae: 23.0645 - val_mse: 608.4358\n",
            "Epoch 19/500\n",
            "10/10 [==============================] - 0s 4ms/step - loss: 21.9487 - mae: 21.9487 - mse: 553.0690 - val_loss: 22.9444 - val_mae: 22.9444 - val_mse: 602.2067\n",
            "Epoch 20/500\n",
            "10/10 [==============================] - 0s 4ms/step - loss: 21.8326 - mae: 21.8326 - mse: 547.3061 - val_loss: 22.8251 - val_mae: 22.8251 - val_mse: 596.0501\n",
            "Epoch 21/500\n",
            "10/10 [==============================] - 0s 4ms/step - loss: 21.7174 - mae: 21.7174 - mse: 541.6401 - val_loss: 22.7055 - val_mae: 22.7055 - val_mse: 589.9157\n",
            "Epoch 22/500\n",
            "10/10 [==============================] - 0s 4ms/step - loss: 21.6029 - mae: 21.6029 - mse: 536.1142 - val_loss: 22.5851 - val_mae: 22.5851 - val_mse: 583.7679\n",
            "Epoch 23/500\n",
            "10/10 [==============================] - 0s 3ms/step - loss: 21.4868 - mae: 21.4868 - mse: 530.4693 - val_loss: 22.4655 - val_mae: 22.4655 - val_mse: 577.6929\n",
            "Epoch 24/500\n",
            "10/10 [==============================] - 0s 4ms/step - loss: 21.3718 - mae: 21.3718 - mse: 524.9581 - val_loss: 22.3454 - val_mae: 22.3454 - val_mse: 571.6230\n",
            "Epoch 25/500\n",
            "10/10 [==============================] - 0s 3ms/step - loss: 21.2561 - mae: 21.2561 - mse: 519.3741 - val_loss: 22.2256 - val_mae: 22.2256 - val_mse: 565.6048\n",
            "Epoch 26/500\n",
            "10/10 [==============================] - 0s 3ms/step - loss: 21.1403 - mae: 21.1403 - mse: 513.8239 - val_loss: 22.1063 - val_mae: 22.1063 - val_mse: 559.6398\n",
            "Epoch 27/500\n",
            "10/10 [==============================] - 0s 4ms/step - loss: 21.0258 - mae: 21.0258 - mse: 508.4325 - val_loss: 21.9860 - val_mae: 21.9860 - val_mse: 553.6590\n",
            "Epoch 28/500\n",
            "10/10 [==============================] - 0s 5ms/step - loss: 20.9101 - mae: 20.9101 - mse: 502.9635 - val_loss: 21.8660 - val_mae: 21.8660 - val_mse: 547.7286\n",
            "Epoch 29/500\n",
            "10/10 [==============================] - 0s 3ms/step - loss: 20.7948 - mae: 20.7948 - mse: 497.5421 - val_loss: 21.7461 - val_mae: 21.7461 - val_mse: 541.8311\n",
            "Epoch 30/500\n",
            "10/10 [==============================] - 0s 3ms/step - loss: 20.6785 - mae: 20.6785 - mse: 492.0833 - val_loss: 21.6269 - val_mae: 21.6269 - val_mse: 536.0018\n",
            "Epoch 31/500\n",
            "10/10 [==============================] - 0s 3ms/step - loss: 20.5636 - mae: 20.5636 - mse: 486.7603 - val_loss: 21.5073 - val_mae: 21.5073 - val_mse: 530.1843\n",
            "Epoch 32/500\n",
            "10/10 [==============================] - 0s 4ms/step - loss: 20.4483 - mae: 20.4483 - mse: 481.4044 - val_loss: 21.3876 - val_mae: 21.3876 - val_mse: 524.3941\n",
            "Epoch 33/500\n",
            "10/10 [==============================] - 0s 3ms/step - loss: 20.3338 - mae: 20.3338 - mse: 476.2498 - val_loss: 21.2671 - val_mae: 21.2671 - val_mse: 518.5949\n",
            "Epoch 34/500\n",
            "10/10 [==============================] - 0s 5ms/step - loss: 20.2168 - mae: 20.2168 - mse: 470.8379 - val_loss: 21.1481 - val_mae: 21.1481 - val_mse: 512.9031\n",
            "Epoch 35/500\n",
            "10/10 [==============================] - 0s 4ms/step - loss: 20.1028 - mae: 20.1028 - mse: 465.6877 - val_loss: 21.0278 - val_mae: 21.0278 - val_mse: 507.1798\n",
            "Epoch 36/500\n",
            "10/10 [==============================] - 0s 3ms/step - loss: 19.9871 - mae: 19.9871 - mse: 460.4834 - val_loss: 20.9079 - val_mae: 20.9079 - val_mse: 501.5075\n",
            "Epoch 37/500\n",
            "10/10 [==============================] - 0s 3ms/step - loss: 19.8713 - mae: 19.8713 - mse: 455.1951 - val_loss: 20.7885 - val_mae: 20.7885 - val_mse: 495.8883\n",
            "Epoch 38/500\n",
            "10/10 [==============================] - 0s 4ms/step - loss: 19.7566 - mae: 19.7566 - mse: 450.1440 - val_loss: 20.6684 - val_mae: 20.6684 - val_mse: 490.2744\n",
            "Epoch 39/500\n",
            "10/10 [==============================] - 0s 4ms/step - loss: 19.6398 - mae: 19.6398 - mse: 444.8955 - val_loss: 20.5497 - val_mae: 20.5497 - val_mse: 484.7539\n",
            "Epoch 40/500\n",
            "10/10 [==============================] - 0s 4ms/step - loss: 19.5257 - mae: 19.5257 - mse: 439.9132 - val_loss: 20.4297 - val_mae: 20.4297 - val_mse: 479.2043\n",
            "Epoch 41/500\n",
            "10/10 [==============================] - 0s 4ms/step - loss: 19.4098 - mae: 19.4098 - mse: 434.8148 - val_loss: 20.3102 - val_mae: 20.3102 - val_mse: 473.7097\n",
            "Epoch 42/500\n",
            "10/10 [==============================] - 0s 4ms/step - loss: 19.2952 - mae: 19.2952 - mse: 429.8461 - val_loss: 20.1898 - val_mae: 20.1898 - val_mse: 468.2100\n",
            "Epoch 43/500\n",
            "10/10 [==============================] - 0s 4ms/step - loss: 19.1788 - mae: 19.1788 - mse: 424.7144 - val_loss: 20.0705 - val_mae: 20.0705 - val_mse: 462.7899\n",
            "Epoch 44/500\n",
            "10/10 [==============================] - 0s 3ms/step - loss: 19.0644 - mae: 19.0644 - mse: 419.8083 - val_loss: 19.9501 - val_mae: 19.9501 - val_mse: 457.3531\n",
            "Epoch 45/500\n",
            "10/10 [==============================] - 0s 4ms/step - loss: 18.9487 - mae: 18.9487 - mse: 414.9080 - val_loss: 19.8300 - val_mae: 19.8300 - val_mse: 451.9608\n",
            "Epoch 46/500\n",
            "10/10 [==============================] - 0s 4ms/step - loss: 18.8324 - mae: 18.8324 - mse: 409.8839 - val_loss: 19.7108 - val_mae: 19.7108 - val_mse: 446.6399\n",
            "Epoch 47/500\n",
            "10/10 [==============================] - 0s 4ms/step - loss: 18.7178 - mae: 18.7178 - mse: 405.1154 - val_loss: 19.5906 - val_mae: 19.5906 - val_mse: 441.3094\n",
            "Epoch 48/500\n",
            "10/10 [==============================] - 0s 3ms/step - loss: 18.6015 - mae: 18.6015 - mse: 400.1518 - val_loss: 19.4713 - val_mae: 19.4713 - val_mse: 436.0497\n",
            "Epoch 49/500\n",
            "10/10 [==============================] - 0s 4ms/step - loss: 18.4870 - mae: 18.4870 - mse: 395.4082 - val_loss: 19.3511 - val_mae: 19.3511 - val_mse: 430.7797\n",
            "Epoch 50/500\n",
            "10/10 [==============================] - 0s 3ms/step - loss: 18.3712 - mae: 18.3712 - mse: 390.5530 - val_loss: 19.2314 - val_mae: 19.2314 - val_mse: 425.5648\n",
            "Epoch 51/500\n",
            "10/10 [==============================] - 0s 3ms/step - loss: 18.2564 - mae: 18.2564 - mse: 385.8913 - val_loss: 19.1111 - val_mae: 19.1111 - val_mse: 420.3579\n",
            "Epoch 52/500\n",
            "10/10 [==============================] - 0s 4ms/step - loss: 18.1398 - mae: 18.1398 - mse: 381.0061 - val_loss: 18.9920 - val_mae: 18.9920 - val_mse: 415.2361\n",
            "Epoch 53/500\n",
            "10/10 [==============================] - 0s 6ms/step - loss: 18.0259 - mae: 18.0259 - mse: 376.4565 - val_loss: 18.8715 - val_mae: 18.8715 - val_mse: 410.0831\n",
            "Epoch 54/500\n",
            "10/10 [==============================] - 0s 4ms/step - loss: 17.9098 - mae: 17.9098 - mse: 371.7427 - val_loss: 18.7518 - val_mae: 18.7518 - val_mse: 404.9994\n",
            "Epoch 55/500\n",
            "10/10 [==============================] - 0s 4ms/step - loss: 17.7941 - mae: 17.7941 - mse: 367.0207 - val_loss: 18.6325 - val_mae: 18.6325 - val_mse: 399.9631\n",
            "Epoch 56/500\n",
            "10/10 [==============================] - 0s 5ms/step - loss: 17.6788 - mae: 17.6788 - mse: 362.3921 - val_loss: 18.5132 - val_mae: 18.5132 - val_mse: 394.9553\n",
            "Epoch 57/500\n",
            "10/10 [==============================] - 0s 3ms/step - loss: 17.5636 - mae: 17.5636 - mse: 357.8390 - val_loss: 18.3936 - val_mae: 18.3936 - val_mse: 389.9700\n",
            "Epoch 58/500\n",
            "10/10 [==============================] - 0s 4ms/step - loss: 17.4481 - mae: 17.4481 - mse: 353.2633 - val_loss: 18.2739 - val_mae: 18.2739 - val_mse: 385.0143\n",
            "Epoch 59/500\n",
            "10/10 [==============================] - 0s 5ms/step - loss: 17.3332 - mae: 17.3332 - mse: 348.7934 - val_loss: 18.1537 - val_mae: 18.1537 - val_mse: 380.0663\n",
            "Epoch 60/500\n",
            "10/10 [==============================] - 0s 3ms/step - loss: 17.2177 - mae: 17.2177 - mse: 344.2642 - val_loss: 18.0335 - val_mae: 18.0335 - val_mse: 375.1538\n",
            "Epoch 61/500\n",
            "10/10 [==============================] - 0s 3ms/step - loss: 17.1029 - mae: 17.1029 - mse: 339.8451 - val_loss: 17.9129 - val_mae: 17.9129 - val_mse: 370.2553\n",
            "Epoch 62/500\n",
            "10/10 [==============================] - 0s 4ms/step - loss: 16.9866 - mae: 16.9866 - mse: 335.3354 - val_loss: 17.7933 - val_mae: 17.7933 - val_mse: 365.4310\n",
            "Epoch 63/500\n",
            "10/10 [==============================] - 0s 3ms/step - loss: 16.8708 - mae: 16.8708 - mse: 330.8912 - val_loss: 17.6742 - val_mae: 17.6742 - val_mse: 360.6611\n",
            "Epoch 64/500\n",
            "10/10 [==============================] - 0s 4ms/step - loss: 16.7558 - mae: 16.7558 - mse: 326.5425 - val_loss: 17.5549 - val_mae: 17.5549 - val_mse: 355.9086\n",
            "Epoch 65/500\n",
            "10/10 [==============================] - 0s 4ms/step - loss: 16.6410 - mae: 16.6410 - mse: 322.2341 - val_loss: 17.4348 - val_mae: 17.4348 - val_mse: 351.1598\n",
            "Epoch 66/500\n",
            "10/10 [==============================] - 0s 5ms/step - loss: 16.5255 - mae: 16.5255 - mse: 317.9062 - val_loss: 17.3147 - val_mae: 17.3147 - val_mse: 346.4446\n",
            "Epoch 67/500\n",
            "10/10 [==============================] - 0s 4ms/step - loss: 16.4098 - mae: 16.4098 - mse: 313.6039 - val_loss: 17.1949 - val_mae: 17.1949 - val_mse: 341.7713\n",
            "Epoch 68/500\n",
            "10/10 [==============================] - 0s 4ms/step - loss: 16.2935 - mae: 16.2935 - mse: 309.2662 - val_loss: 17.0760 - val_mae: 17.0760 - val_mse: 337.1671\n",
            "Epoch 69/500\n",
            "10/10 [==============================] - 0s 4ms/step - loss: 16.1800 - mae: 16.1800 - mse: 305.1801 - val_loss: 16.9552 - val_mae: 16.9552 - val_mse: 332.5182\n",
            "Epoch 70/500\n",
            "10/10 [==============================] - 0s 3ms/step - loss: 16.0637 - mae: 16.0637 - mse: 300.9255 - val_loss: 16.8353 - val_mae: 16.8353 - val_mse: 327.9380\n",
            "Epoch 71/500\n",
            "10/10 [==============================] - 0s 3ms/step - loss: 15.9480 - mae: 15.9480 - mse: 296.7225 - val_loss: 16.7157 - val_mae: 16.7157 - val_mse: 323.4016\n",
            "Epoch 72/500\n",
            "10/10 [==============================] - 0s 4ms/step - loss: 15.8337 - mae: 15.8337 - mse: 292.6689 - val_loss: 16.5951 - val_mae: 16.5951 - val_mse: 318.8601\n",
            "Epoch 73/500\n",
            "10/10 [==============================] - 0s 4ms/step - loss: 15.7168 - mae: 15.7168 - mse: 288.4235 - val_loss: 16.4762 - val_mae: 16.4762 - val_mse: 314.4145\n",
            "Epoch 74/500\n",
            "10/10 [==============================] - 0s 4ms/step - loss: 15.6023 - mae: 15.6023 - mse: 284.3847 - val_loss: 16.3563 - val_mae: 16.3563 - val_mse: 309.9646\n",
            "Epoch 75/500\n",
            "10/10 [==============================] - 0s 4ms/step - loss: 15.4863 - mae: 15.4863 - mse: 280.3138 - val_loss: 16.2371 - val_mae: 16.2371 - val_mse: 305.5710\n",
            "Epoch 76/500\n",
            "10/10 [==============================] - 0s 4ms/step - loss: 15.3720 - mae: 15.3720 - mse: 276.3401 - val_loss: 16.1168 - val_mae: 16.1168 - val_mse: 301.1687\n",
            "Epoch 77/500\n",
            "10/10 [==============================] - 0s 4ms/step - loss: 15.2554 - mae: 15.2554 - mse: 272.2995 - val_loss: 15.9978 - val_mae: 15.9978 - val_mse: 296.8428\n",
            "Epoch 78/500\n",
            "10/10 [==============================] - 0s 4ms/step - loss: 15.1413 - mae: 15.1413 - mse: 268.3717 - val_loss: 15.8775 - val_mae: 15.8775 - val_mse: 292.5062\n",
            "Epoch 79/500\n",
            "10/10 [==============================] - 0s 4ms/step - loss: 15.0259 - mae: 15.0259 - mse: 264.4535 - val_loss: 15.7574 - val_mae: 15.7574 - val_mse: 288.2077\n",
            "Epoch 80/500\n",
            "10/10 [==============================] - 0s 3ms/step - loss: 14.9091 - mae: 14.9091 - mse: 260.4544 - val_loss: 15.6388 - val_mae: 15.6388 - val_mse: 283.9947\n",
            "Epoch 81/500\n",
            "10/10 [==============================] - 0s 3ms/step - loss: 14.7954 - mae: 14.7954 - mse: 256.6834 - val_loss: 15.5184 - val_mae: 15.5184 - val_mse: 279.7499\n",
            "Epoch 82/500\n",
            "10/10 [==============================] - 0s 4ms/step - loss: 14.6792 - mae: 14.6792 - mse: 252.8205 - val_loss: 15.3987 - val_mae: 15.3987 - val_mse: 275.5620\n",
            "Epoch 83/500\n",
            "10/10 [==============================] - 0s 6ms/step - loss: 14.5645 - mae: 14.5645 - mse: 249.0027 - val_loss: 15.2784 - val_mae: 15.2784 - val_mse: 271.3849\n",
            "Epoch 84/500\n",
            "10/10 [==============================] - 0s 5ms/step - loss: 14.4487 - mae: 14.4487 - mse: 245.2349 - val_loss: 15.1586 - val_mae: 15.1586 - val_mse: 267.2599\n",
            "Epoch 85/500\n",
            "10/10 [==============================] - 0s 3ms/step - loss: 14.3333 - mae: 14.3333 - mse: 241.4491 - val_loss: 15.0389 - val_mae: 15.0389 - val_mse: 263.1691\n",
            "Epoch 86/500\n",
            "10/10 [==============================] - 0s 3ms/step - loss: 14.2175 - mae: 14.2175 - mse: 237.7206 - val_loss: 14.9197 - val_mae: 14.9197 - val_mse: 259.1248\n",
            "Epoch 87/500\n",
            "10/10 [==============================] - 0s 3ms/step - loss: 14.1028 - mae: 14.1028 - mse: 234.0339 - val_loss: 14.7998 - val_mae: 14.7998 - val_mse: 255.0919\n",
            "Epoch 88/500\n",
            "10/10 [==============================] - 0s 3ms/step - loss: 13.9871 - mae: 13.9871 - mse: 230.3575 - val_loss: 14.6804 - val_mae: 14.6804 - val_mse: 251.1033\n",
            "Epoch 89/500\n",
            "10/10 [==============================] - 0s 3ms/step - loss: 13.8715 - mae: 13.8715 - mse: 226.6632 - val_loss: 14.5609 - val_mae: 14.5609 - val_mse: 247.1479\n",
            "Epoch 90/500\n",
            "10/10 [==============================] - 0s 3ms/step - loss: 13.7561 - mae: 13.7561 - mse: 223.0662 - val_loss: 14.4413 - val_mae: 14.4413 - val_mse: 243.2195\n",
            "Epoch 91/500\n",
            "10/10 [==============================] - 0s 4ms/step - loss: 13.6417 - mae: 13.6417 - mse: 219.5405 - val_loss: 14.3208 - val_mae: 14.3208 - val_mse: 239.2926\n",
            "Epoch 92/500\n",
            "10/10 [==============================] - 0s 4ms/step - loss: 13.5263 - mae: 13.5263 - mse: 216.0335 - val_loss: 14.2004 - val_mae: 14.2004 - val_mse: 235.4045\n",
            "Epoch 93/500\n",
            "10/10 [==============================] - 0s 5ms/step - loss: 13.4094 - mae: 13.4094 - mse: 212.3923 - val_loss: 14.0816 - val_mae: 14.0816 - val_mse: 231.5985\n",
            "Epoch 94/500\n",
            "10/10 [==============================] - 0s 4ms/step - loss: 13.2953 - mae: 13.2953 - mse: 208.9826 - val_loss: 13.9614 - val_mae: 13.9614 - val_mse: 227.7794\n",
            "Epoch 95/500\n",
            "10/10 [==============================] - 0s 4ms/step - loss: 13.1788 - mae: 13.1788 - mse: 205.4631 - val_loss: 13.8424 - val_mae: 13.8424 - val_mse: 224.0289\n",
            "Epoch 96/500\n",
            "10/10 [==============================] - 0s 3ms/step - loss: 13.0643 - mae: 13.0643 - mse: 202.0674 - val_loss: 13.7224 - val_mae: 13.7224 - val_mse: 220.2811\n",
            "Epoch 97/500\n",
            "10/10 [==============================] - 0s 4ms/step - loss: 12.9485 - mae: 12.9485 - mse: 198.6557 - val_loss: 13.6028 - val_mae: 13.6028 - val_mse: 216.5761\n",
            "Epoch 98/500\n",
            "10/10 [==============================] - 0s 4ms/step - loss: 12.8335 - mae: 12.8335 - mse: 195.2853 - val_loss: 13.4829 - val_mae: 13.4829 - val_mse: 212.8944\n",
            "Epoch 99/500\n",
            "10/10 [==============================] - 0s 4ms/step - loss: 12.7181 - mae: 12.7181 - mse: 191.9563 - val_loss: 13.3630 - val_mae: 13.3630 - val_mse: 209.2456\n",
            "Epoch 100/500\n",
            "10/10 [==============================] - 0s 3ms/step - loss: 12.6032 - mae: 12.6032 - mse: 188.6980 - val_loss: 13.2426 - val_mae: 13.2426 - val_mse: 205.6140\n",
            "Epoch 101/500\n",
            "10/10 [==============================] - 0s 3ms/step - loss: 12.4869 - mae: 12.4869 - mse: 185.3687 - val_loss: 13.1231 - val_mae: 13.1231 - val_mse: 202.0410\n",
            "Epoch 102/500\n",
            "10/10 [==============================] - 0s 4ms/step - loss: 12.3724 - mae: 12.3724 - mse: 182.1628 - val_loss: 13.0026 - val_mae: 13.0026 - val_mse: 198.4701\n",
            "Epoch 103/500\n",
            "10/10 [==============================] - 0s 3ms/step - loss: 12.2554 - mae: 12.2554 - mse: 178.8414 - val_loss: 12.8838 - val_mae: 12.8838 - val_mse: 194.9812\n",
            "Epoch 104/500\n",
            "10/10 [==============================] - 0s 4ms/step - loss: 12.1402 - mae: 12.1402 - mse: 175.6523 - val_loss: 12.7647 - val_mae: 12.7647 - val_mse: 191.5150\n",
            "Epoch 105/500\n",
            "10/10 [==============================] - 0s 4ms/step - loss: 12.0269 - mae: 12.0269 - mse: 172.5975 - val_loss: 12.6447 - val_mae: 12.6447 - val_mse: 188.0161\n",
            "Epoch 106/500\n",
            "10/10 [==============================] - 0s 4ms/step - loss: 11.9100 - mae: 11.9100 - mse: 169.3898 - val_loss: 12.5261 - val_mae: 12.5261 - val_mse: 184.5946\n",
            "Epoch 107/500\n",
            "10/10 [==============================] - 0s 4ms/step - loss: 11.7953 - mae: 11.7953 - mse: 166.3297 - val_loss: 12.4070 - val_mae: 12.4070 - val_mse: 181.1899\n",
            "Epoch 108/500\n",
            "10/10 [==============================] - 0s 4ms/step - loss: 11.6779 - mae: 11.6779 - mse: 163.1313 - val_loss: 12.2900 - val_mae: 12.2900 - val_mse: 177.8749\n",
            "Epoch 109/500\n",
            "10/10 [==============================] - 0s 3ms/step - loss: 11.5650 - mae: 11.5650 - mse: 160.1972 - val_loss: 12.1717 - val_mae: 12.1717 - val_mse: 174.5577\n",
            "Epoch 110/500\n",
            "10/10 [==============================] - 0s 4ms/step - loss: 11.4524 - mae: 11.4524 - mse: 157.1894 - val_loss: 12.0551 - val_mae: 12.0551 - val_mse: 171.3176\n",
            "Epoch 111/500\n",
            "10/10 [==============================] - 0s 4ms/step - loss: 11.3413 - mae: 11.3413 - mse: 154.2791 - val_loss: 11.9386 - val_mae: 11.9386 - val_mse: 168.1109\n",
            "Epoch 112/500\n",
            "10/10 [==============================] - 0s 4ms/step - loss: 11.2299 - mae: 11.2299 - mse: 151.3313 - val_loss: 11.8238 - val_mae: 11.8238 - val_mse: 164.9519\n",
            "Epoch 113/500\n",
            "10/10 [==============================] - 0s 4ms/step - loss: 11.1206 - mae: 11.1206 - mse: 148.4822 - val_loss: 11.7094 - val_mae: 11.7094 - val_mse: 161.8185\n",
            "Epoch 114/500\n",
            "10/10 [==============================] - 0s 3ms/step - loss: 11.0104 - mae: 11.0104 - mse: 145.6307 - val_loss: 11.5958 - val_mae: 11.5958 - val_mse: 158.7380\n",
            "Epoch 115/500\n",
            "10/10 [==============================] - 0s 3ms/step - loss: 10.9035 - mae: 10.9035 - mse: 142.8649 - val_loss: 11.4825 - val_mae: 11.4825 - val_mse: 155.6943\n",
            "Epoch 116/500\n",
            "10/10 [==============================] - 0s 3ms/step - loss: 10.7963 - mae: 10.7963 - mse: 140.1073 - val_loss: 11.3727 - val_mae: 11.3727 - val_mse: 152.7291\n",
            "Epoch 117/500\n",
            "10/10 [==============================] - 0s 5ms/step - loss: 10.6924 - mae: 10.6924 - mse: 137.4031 - val_loss: 11.2652 - val_mae: 11.2652 - val_mse: 149.7850\n",
            "Epoch 118/500\n",
            "10/10 [==============================] - 0s 5ms/step - loss: 10.5904 - mae: 10.5904 - mse: 134.7837 - val_loss: 11.1588 - val_mae: 11.1588 - val_mse: 146.8970\n",
            "Epoch 119/500\n",
            "10/10 [==============================] - 0s 4ms/step - loss: 10.4914 - mae: 10.4914 - mse: 132.2149 - val_loss: 11.0541 - val_mae: 11.0541 - val_mse: 144.0862\n",
            "Epoch 120/500\n",
            "10/10 [==============================] - 0s 4ms/step - loss: 10.3938 - mae: 10.3938 - mse: 129.6611 - val_loss: 10.9516 - val_mae: 10.9516 - val_mse: 141.3593\n",
            "Epoch 121/500\n",
            "10/10 [==============================] - 0s 3ms/step - loss: 10.2980 - mae: 10.2980 - mse: 127.1935 - val_loss: 10.8494 - val_mae: 10.8494 - val_mse: 138.6672\n",
            "Epoch 122/500\n",
            "10/10 [==============================] - 0s 4ms/step - loss: 10.2023 - mae: 10.2023 - mse: 124.7252 - val_loss: 10.7474 - val_mae: 10.7474 - val_mse: 136.0064\n",
            "Epoch 123/500\n",
            "10/10 [==============================] - 0s 4ms/step - loss: 10.1077 - mae: 10.1077 - mse: 122.3514 - val_loss: 10.6440 - val_mae: 10.6440 - val_mse: 133.3390\n",
            "Epoch 124/500\n",
            "10/10 [==============================] - 0s 4ms/step - loss: 10.0110 - mae: 10.0110 - mse: 119.9425 - val_loss: 10.5416 - val_mae: 10.5416 - val_mse: 130.7224\n",
            "Epoch 125/500\n",
            "10/10 [==============================] - 0s 4ms/step - loss: 9.9164 - mae: 9.9164 - mse: 117.5844 - val_loss: 10.4378 - val_mae: 10.4378 - val_mse: 128.0968\n",
            "Epoch 126/500\n",
            "10/10 [==============================] - 0s 4ms/step - loss: 9.8194 - mae: 9.8194 - mse: 115.1827 - val_loss: 10.3353 - val_mae: 10.3353 - val_mse: 125.5312\n",
            "Epoch 127/500\n",
            "10/10 [==============================] - 0s 4ms/step - loss: 9.7231 - mae: 9.7231 - mse: 112.8615 - val_loss: 10.2330 - val_mae: 10.2330 - val_mse: 122.9966\n",
            "Epoch 128/500\n",
            "10/10 [==============================] - 0s 4ms/step - loss: 9.6289 - mae: 9.6289 - mse: 110.5757 - val_loss: 10.1283 - val_mae: 10.1283 - val_mse: 120.4323\n",
            "Epoch 129/500\n",
            "10/10 [==============================] - 0s 4ms/step - loss: 9.5313 - mae: 9.5313 - mse: 108.2927 - val_loss: 10.0254 - val_mae: 10.0254 - val_mse: 117.9370\n",
            "Epoch 130/500\n",
            "10/10 [==============================] - 0s 4ms/step - loss: 9.4354 - mae: 9.4354 - mse: 106.0182 - val_loss: 9.9219 - val_mae: 9.9219 - val_mse: 115.4564\n",
            "Epoch 131/500\n",
            "10/10 [==============================] - 0s 4ms/step - loss: 9.3383 - mae: 9.3383 - mse: 103.7500 - val_loss: 9.8191 - val_mae: 9.8191 - val_mse: 113.0181\n",
            "Epoch 132/500\n",
            "10/10 [==============================] - 0s 4ms/step - loss: 9.2428 - mae: 9.2428 - mse: 101.5667 - val_loss: 9.7152 - val_mae: 9.7152 - val_mse: 110.5838\n",
            "Epoch 133/500\n",
            "10/10 [==============================] - 0s 3ms/step - loss: 9.1462 - mae: 9.1462 - mse: 99.3835 - val_loss: 9.6114 - val_mae: 9.6114 - val_mse: 108.1769\n",
            "Epoch 134/500\n",
            "10/10 [==============================] - 0s 4ms/step - loss: 9.0488 - mae: 9.0488 - mse: 97.1761 - val_loss: 9.5083 - val_mae: 9.5083 - val_mse: 105.8138\n",
            "Epoch 135/500\n",
            "10/10 [==============================] - 0s 4ms/step - loss: 8.9528 - mae: 8.9528 - mse: 95.0536 - val_loss: 9.4042 - val_mae: 9.4042 - val_mse: 103.4547\n",
            "Epoch 136/500\n",
            "10/10 [==============================] - 0s 4ms/step - loss: 8.8556 - mae: 8.8556 - mse: 92.9268 - val_loss: 9.3003 - val_mae: 9.3003 - val_mse: 101.1277\n",
            "Epoch 137/500\n",
            "10/10 [==============================] - 0s 4ms/step - loss: 8.7585 - mae: 8.7585 - mse: 90.8342 - val_loss: 9.1965 - val_mae: 9.1965 - val_mse: 98.8305\n",
            "Epoch 138/500\n",
            "10/10 [==============================] - 0s 3ms/step - loss: 8.6610 - mae: 8.6610 - mse: 88.7459 - val_loss: 9.0929 - val_mae: 9.0929 - val_mse: 96.5657\n",
            "Epoch 139/500\n",
            "10/10 [==============================] - 0s 4ms/step - loss: 8.5647 - mae: 8.5647 - mse: 86.7016 - val_loss: 8.9882 - val_mae: 8.9882 - val_mse: 94.3055\n",
            "Epoch 140/500\n",
            "10/10 [==============================] - 0s 4ms/step - loss: 8.4676 - mae: 8.4676 - mse: 84.6688 - val_loss: 8.8834 - val_mae: 8.8834 - val_mse: 92.0690\n",
            "Epoch 141/500\n",
            "10/10 [==============================] - 0s 5ms/step - loss: 8.3702 - mae: 8.3702 - mse: 82.6650 - val_loss: 8.7787 - val_mae: 8.7787 - val_mse: 89.8633\n",
            "Epoch 142/500\n",
            "10/10 [==============================] - 0s 4ms/step - loss: 8.2725 - mae: 8.2725 - mse: 80.6808 - val_loss: 8.6742 - val_mae: 8.6742 - val_mse: 87.6911\n",
            "Epoch 143/500\n",
            "10/10 [==============================] - 0s 4ms/step - loss: 8.1756 - mae: 8.1756 - mse: 78.7159 - val_loss: 8.5690 - val_mae: 8.5690 - val_mse: 85.5304\n",
            "Epoch 144/500\n",
            "10/10 [==============================] - 0s 4ms/step - loss: 8.0792 - mae: 8.0792 - mse: 76.8106 - val_loss: 8.4625 - val_mae: 8.4625 - val_mse: 83.3730\n",
            "Epoch 145/500\n",
            "10/10 [==============================] - 0s 5ms/step - loss: 7.9776 - mae: 7.9776 - mse: 74.7989 - val_loss: 8.3603 - val_mae: 8.3603 - val_mse: 81.3295\n",
            "Epoch 146/500\n",
            "10/10 [==============================] - 0s 4ms/step - loss: 7.8824 - mae: 7.8824 - mse: 72.9867 - val_loss: 8.2551 - val_mae: 8.2551 - val_mse: 79.2533\n",
            "Epoch 147/500\n",
            "10/10 [==============================] - 0s 4ms/step - loss: 7.7854 - mae: 7.7854 - mse: 71.1368 - val_loss: 8.1491 - val_mae: 8.1491 - val_mse: 77.1913\n",
            "Epoch 148/500\n",
            "10/10 [==============================] - 0s 4ms/step - loss: 7.6865 - mae: 7.6865 - mse: 69.2938 - val_loss: 8.0446 - val_mae: 8.0446 - val_mse: 75.1861\n",
            "Epoch 149/500\n",
            "10/10 [==============================] - 0s 4ms/step - loss: 7.5886 - mae: 7.5886 - mse: 67.4723 - val_loss: 7.9399 - val_mae: 7.9399 - val_mse: 73.2030\n",
            "Epoch 150/500\n",
            "10/10 [==============================] - 0s 4ms/step - loss: 7.4915 - mae: 7.4915 - mse: 65.7047 - val_loss: 7.8340 - val_mae: 7.8340 - val_mse: 71.2276\n",
            "Epoch 151/500\n",
            "10/10 [==============================] - 0s 4ms/step - loss: 7.3924 - mae: 7.3924 - mse: 63.9152 - val_loss: 7.7290 - val_mae: 7.7290 - val_mse: 69.2970\n",
            "Epoch 152/500\n",
            "10/10 [==============================] - 0s 4ms/step - loss: 7.2943 - mae: 7.2943 - mse: 62.1761 - val_loss: 7.6237 - val_mae: 7.6237 - val_mse: 67.3895\n",
            "Epoch 153/500\n",
            "10/10 [==============================] - 0s 5ms/step - loss: 7.1961 - mae: 7.1961 - mse: 60.4776 - val_loss: 7.5183 - val_mae: 7.5183 - val_mse: 65.5072\n",
            "Epoch 154/500\n",
            "10/10 [==============================] - 0s 3ms/step - loss: 7.0982 - mae: 7.0982 - mse: 58.8081 - val_loss: 7.4123 - val_mae: 7.4123 - val_mse: 63.6439\n",
            "Epoch 155/500\n",
            "10/10 [==============================] - 0s 6ms/step - loss: 7.0005 - mae: 7.0005 - mse: 57.1478 - val_loss: 7.3058 - val_mae: 7.3058 - val_mse: 61.7992\n",
            "Epoch 156/500\n",
            "10/10 [==============================] - 0s 4ms/step - loss: 6.9013 - mae: 6.9013 - mse: 55.5012 - val_loss: 7.2001 - val_mae: 7.2001 - val_mse: 59.9977\n",
            "Epoch 157/500\n",
            "10/10 [==============================] - 0s 4ms/step - loss: 6.8015 - mae: 6.8015 - mse: 53.8797 - val_loss: 7.0957 - val_mae: 7.0957 - val_mse: 58.2468\n",
            "Epoch 158/500\n",
            "10/10 [==============================] - 0s 4ms/step - loss: 6.7040 - mae: 6.7040 - mse: 52.3038 - val_loss: 6.9900 - val_mae: 6.9900 - val_mse: 56.5012\n",
            "Epoch 159/500\n",
            "10/10 [==============================] - 0s 4ms/step - loss: 6.6049 - mae: 6.6049 - mse: 50.7238 - val_loss: 6.8846 - val_mae: 6.8846 - val_mse: 54.7906\n",
            "Epoch 160/500\n",
            "10/10 [==============================] - 0s 4ms/step - loss: 6.5083 - mae: 6.5083 - mse: 49.2279 - val_loss: 6.7770 - val_mae: 6.7770 - val_mse: 53.0726\n",
            "Epoch 161/500\n",
            "10/10 [==============================] - 0s 4ms/step - loss: 6.4088 - mae: 6.4088 - mse: 47.7027 - val_loss: 6.6703 - val_mae: 6.6703 - val_mse: 51.3985\n",
            "Epoch 162/500\n",
            "10/10 [==============================] - 0s 4ms/step - loss: 6.3083 - mae: 6.3083 - mse: 46.1901 - val_loss: 6.5657 - val_mae: 6.5657 - val_mse: 49.7842\n",
            "Epoch 163/500\n",
            "10/10 [==============================] - 0s 4ms/step - loss: 6.2113 - mae: 6.2113 - mse: 44.7671 - val_loss: 6.4589 - val_mae: 6.4589 - val_mse: 48.1660\n",
            "Epoch 164/500\n",
            "10/10 [==============================] - 0s 4ms/step - loss: 6.1122 - mae: 6.1122 - mse: 43.3153 - val_loss: 6.3523 - val_mae: 6.3523 - val_mse: 46.5791\n",
            "Epoch 165/500\n",
            "10/10 [==============================] - 0s 4ms/step - loss: 6.0126 - mae: 6.0126 - mse: 41.9167 - val_loss: 6.2463 - val_mae: 6.2463 - val_mse: 45.0299\n",
            "Epoch 166/500\n",
            "10/10 [==============================] - 0s 4ms/step - loss: 5.9141 - mae: 5.9141 - mse: 40.5381 - val_loss: 6.1397 - val_mae: 6.1397 - val_mse: 43.5014\n",
            "Epoch 167/500\n",
            "10/10 [==============================] - 0s 5ms/step - loss: 5.8146 - mae: 5.8146 - mse: 39.1796 - val_loss: 6.0336 - val_mae: 6.0336 - val_mse: 42.0081\n",
            "Epoch 168/500\n",
            "10/10 [==============================] - 0s 4ms/step - loss: 5.7150 - mae: 5.7150 - mse: 37.8389 - val_loss: 5.9280 - val_mae: 5.9280 - val_mse: 40.5510\n",
            "Epoch 169/500\n",
            "10/10 [==============================] - 0s 5ms/step - loss: 5.6163 - mae: 5.6163 - mse: 36.5348 - val_loss: 5.8217 - val_mae: 5.8217 - val_mse: 39.1129\n",
            "Epoch 170/500\n",
            "10/10 [==============================] - 0s 4ms/step - loss: 5.5172 - mae: 5.5172 - mse: 35.2789 - val_loss: 5.7150 - val_mae: 5.7150 - val_mse: 37.6983\n",
            "Epoch 171/500\n",
            "10/10 [==============================] - 0s 4ms/step - loss: 5.4185 - mae: 5.4185 - mse: 34.0312 - val_loss: 5.6077 - val_mae: 5.6077 - val_mse: 36.3047\n",
            "Epoch 172/500\n",
            "10/10 [==============================] - 0s 4ms/step - loss: 5.3181 - mae: 5.3181 - mse: 32.7798 - val_loss: 5.5017 - val_mae: 5.5017 - val_mse: 34.9562\n",
            "Epoch 173/500\n",
            "10/10 [==============================] - 0s 4ms/step - loss: 5.2201 - mae: 5.2201 - mse: 31.6155 - val_loss: 5.3942 - val_mae: 5.3942 - val_mse: 33.6191\n",
            "Epoch 174/500\n",
            "10/10 [==============================] - 0s 4ms/step - loss: 5.1207 - mae: 5.1207 - mse: 30.4253 - val_loss: 5.2876 - val_mae: 5.2876 - val_mse: 32.3214\n",
            "Epoch 175/500\n",
            "10/10 [==============================] - 0s 4ms/step - loss: 5.0212 - mae: 5.0212 - mse: 29.2658 - val_loss: 5.1818 - val_mae: 5.1818 - val_mse: 31.0618\n",
            "Epoch 176/500\n",
            "10/10 [==============================] - 0s 5ms/step - loss: 4.9239 - mae: 4.9239 - mse: 28.1728 - val_loss: 5.0744 - val_mae: 5.0744 - val_mse: 29.8130\n",
            "Epoch 177/500\n",
            "10/10 [==============================] - 0s 3ms/step - loss: 4.8233 - mae: 4.8233 - mse: 27.0682 - val_loss: 4.9689 - val_mae: 4.9689 - val_mse: 28.6149\n",
            "Epoch 178/500\n",
            "10/10 [==============================] - 0s 4ms/step - loss: 4.7251 - mae: 4.7251 - mse: 26.0101 - val_loss: 4.8625 - val_mae: 4.8625 - val_mse: 27.4351\n",
            "Epoch 179/500\n",
            "10/10 [==============================] - 0s 4ms/step - loss: 4.6268 - mae: 4.6268 - mse: 24.9833 - val_loss: 4.7554 - val_mae: 4.7554 - val_mse: 26.2776\n",
            "Epoch 180/500\n",
            "10/10 [==============================] - 0s 4ms/step - loss: 4.5269 - mae: 4.5269 - mse: 23.9610 - val_loss: 4.6493 - val_mae: 4.6493 - val_mse: 25.1581\n",
            "Epoch 181/500\n",
            "10/10 [==============================] - 0s 4ms/step - loss: 4.4294 - mae: 4.4294 - mse: 22.9917 - val_loss: 4.5416 - val_mae: 4.5416 - val_mse: 24.0525\n",
            "Epoch 182/500\n",
            "10/10 [==============================] - 0s 5ms/step - loss: 4.3305 - mae: 4.3305 - mse: 22.0273 - val_loss: 4.4346 - val_mae: 4.4346 - val_mse: 22.9825\n",
            "Epoch 183/500\n",
            "10/10 [==============================] - 0s 4ms/step - loss: 4.2315 - mae: 4.2315 - mse: 21.0978 - val_loss: 4.3286 - val_mae: 4.3286 - val_mse: 21.9511\n",
            "Epoch 184/500\n",
            "10/10 [==============================] - 0s 4ms/step - loss: 4.1335 - mae: 4.1335 - mse: 20.1834 - val_loss: 4.2222 - val_mae: 4.2222 - val_mse: 20.9452\n",
            "Epoch 185/500\n",
            "10/10 [==============================] - 0s 3ms/step - loss: 4.0350 - mae: 4.0350 - mse: 19.3102 - val_loss: 4.1159 - val_mae: 4.1159 - val_mse: 19.9686\n",
            "Epoch 186/500\n",
            "10/10 [==============================] - 0s 4ms/step - loss: 3.9357 - mae: 3.9357 - mse: 18.4511 - val_loss: 4.0105 - val_mae: 4.0105 - val_mse: 19.0295\n",
            "Epoch 187/500\n",
            "10/10 [==============================] - 0s 3ms/step - loss: 3.8401 - mae: 3.8401 - mse: 17.6604 - val_loss: 3.9021 - val_mae: 3.9021 - val_mse: 18.0926\n",
            "Epoch 188/500\n",
            "10/10 [==============================] - 0s 4ms/step - loss: 3.7394 - mae: 3.7394 - mse: 16.8447 - val_loss: 3.7974 - val_mae: 3.7974 - val_mse: 17.2123\n",
            "Epoch 189/500\n",
            "10/10 [==============================] - 0s 4ms/step - loss: 3.6441 - mae: 3.6441 - mse: 16.1019 - val_loss: 3.6915 - val_mae: 3.6915 - val_mse: 16.3412\n",
            "Epoch 190/500\n",
            "10/10 [==============================] - 0s 4ms/step - loss: 3.5443 - mae: 3.5443 - mse: 15.3284 - val_loss: 3.5879 - val_mae: 3.5879 - val_mse: 15.5169\n",
            "Epoch 191/500\n",
            "10/10 [==============================] - 0s 4ms/step - loss: 3.4480 - mae: 3.4480 - mse: 14.6381 - val_loss: 3.4829 - val_mae: 3.4829 - val_mse: 14.7104\n",
            "Epoch 192/500\n",
            "10/10 [==============================] - 0s 5ms/step - loss: 3.3498 - mae: 3.3498 - mse: 13.9412 - val_loss: 3.3785 - val_mae: 3.3785 - val_mse: 13.9373\n",
            "Epoch 193/500\n",
            "10/10 [==============================] - 0s 4ms/step - loss: 3.2528 - mae: 3.2528 - mse: 13.2854 - val_loss: 3.2739 - val_mae: 3.2739 - val_mse: 13.1915\n",
            "Epoch 194/500\n",
            "10/10 [==============================] - 0s 4ms/step - loss: 3.1550 - mae: 3.1550 - mse: 12.6325 - val_loss: 3.1706 - val_mae: 3.1706 - val_mse: 12.4835\n",
            "Epoch 195/500\n",
            "10/10 [==============================] - 0s 4ms/step - loss: 3.0602 - mae: 3.0602 - mse: 12.0304 - val_loss: 3.0674 - val_mae: 3.0674 - val_mse: 11.8038\n",
            "Epoch 196/500\n",
            "10/10 [==============================] - 0s 4ms/step - loss: 2.9687 - mae: 2.9687 - mse: 11.4865 - val_loss: 2.9627 - val_mae: 2.9627 - val_mse: 11.1432\n",
            "Epoch 197/500\n",
            "10/10 [==============================] - 0s 4ms/step - loss: 2.8732 - mae: 2.8732 - mse: 10.9258 - val_loss: 2.8607 - val_mae: 2.8607 - val_mse: 10.5271\n",
            "Epoch 198/500\n",
            "10/10 [==============================] - 0s 4ms/step - loss: 2.7820 - mae: 2.7820 - mse: 10.4176 - val_loss: 2.7580 - val_mae: 2.7580 - val_mse: 9.9345\n",
            "Epoch 199/500\n",
            "10/10 [==============================] - 0s 4ms/step - loss: 2.6915 - mae: 2.6915 - mse: 9.9236 - val_loss: 2.6567 - val_mae: 2.6567 - val_mse: 9.3769\n",
            "Epoch 200/500\n",
            "10/10 [==============================] - 0s 4ms/step - loss: 2.6017 - mae: 2.6017 - mse: 9.4643 - val_loss: 2.5590 - val_mae: 2.5590 - val_mse: 8.8600\n",
            "Epoch 201/500\n",
            "10/10 [==============================] - 0s 4ms/step - loss: 2.5150 - mae: 2.5150 - mse: 9.0292 - val_loss: 2.4631 - val_mae: 2.4631 - val_mse: 8.3688\n",
            "Epoch 202/500\n",
            "10/10 [==============================] - 0s 4ms/step - loss: 2.4273 - mae: 2.4273 - mse: 8.6139 - val_loss: 2.3681 - val_mae: 2.3681 - val_mse: 7.9073\n",
            "Epoch 203/500\n",
            "10/10 [==============================] - 0s 5ms/step - loss: 2.3424 - mae: 2.3424 - mse: 8.2439 - val_loss: 2.2724 - val_mae: 2.2724 - val_mse: 7.4603\n",
            "Epoch 204/500\n",
            "10/10 [==============================] - 0s 4ms/step - loss: 2.2580 - mae: 2.2580 - mse: 7.8879 - val_loss: 2.1906 - val_mae: 2.1906 - val_mse: 7.0558\n",
            "Epoch 205/500\n",
            "10/10 [==============================] - 0s 4ms/step - loss: 2.1812 - mae: 2.1812 - mse: 7.5784 - val_loss: 2.1109 - val_mae: 2.1109 - val_mse: 6.6817\n",
            "Epoch 206/500\n",
            "10/10 [==============================] - 0s 4ms/step - loss: 2.1039 - mae: 2.1039 - mse: 7.2763 - val_loss: 2.0330 - val_mae: 2.0330 - val_mse: 6.3387\n",
            "Epoch 207/500\n",
            "10/10 [==============================] - 0s 4ms/step - loss: 2.0302 - mae: 2.0302 - mse: 7.0092 - val_loss: 1.9551 - val_mae: 1.9551 - val_mse: 6.0180\n",
            "Epoch 208/500\n",
            "10/10 [==============================] - 0s 4ms/step - loss: 1.9594 - mae: 1.9594 - mse: 6.7576 - val_loss: 1.8786 - val_mae: 1.8786 - val_mse: 5.7251\n",
            "Epoch 209/500\n",
            "10/10 [==============================] - 0s 5ms/step - loss: 1.8894 - mae: 1.8894 - mse: 6.5402 - val_loss: 1.8040 - val_mae: 1.8040 - val_mse: 5.4604\n",
            "Epoch 210/500\n",
            "10/10 [==============================] - 0s 6ms/step - loss: 1.8234 - mae: 1.8234 - mse: 6.3377 - val_loss: 1.7313 - val_mae: 1.7313 - val_mse: 5.2175\n",
            "Epoch 211/500\n",
            "10/10 [==============================] - 0s 4ms/step - loss: 1.7613 - mae: 1.7613 - mse: 6.1620 - val_loss: 1.6624 - val_mae: 1.6624 - val_mse: 5.0033\n",
            "Epoch 212/500\n",
            "10/10 [==============================] - 0s 4ms/step - loss: 1.7014 - mae: 1.7014 - mse: 6.0084 - val_loss: 1.5946 - val_mae: 1.5946 - val_mse: 4.8109\n",
            "Epoch 213/500\n",
            "10/10 [==============================] - 0s 4ms/step - loss: 1.6455 - mae: 1.6455 - mse: 5.8718 - val_loss: 1.5401 - val_mae: 1.5401 - val_mse: 4.6463\n",
            "Epoch 214/500\n",
            "10/10 [==============================] - 0s 4ms/step - loss: 1.6036 - mae: 1.6036 - mse: 5.7703 - val_loss: 1.4894 - val_mae: 1.4894 - val_mse: 4.5036\n",
            "Epoch 215/500\n",
            "10/10 [==============================] - 0s 4ms/step - loss: 1.5605 - mae: 1.5605 - mse: 5.6801 - val_loss: 1.4424 - val_mae: 1.4424 - val_mse: 4.3844\n",
            "Epoch 216/500\n",
            "10/10 [==============================] - 0s 4ms/step - loss: 1.5215 - mae: 1.5215 - mse: 5.6003 - val_loss: 1.3985 - val_mae: 1.3985 - val_mse: 4.2846\n",
            "Epoch 217/500\n",
            "10/10 [==============================] - 0s 4ms/step - loss: 1.4912 - mae: 1.4912 - mse: 5.5468 - val_loss: 1.3586 - val_mae: 1.3586 - val_mse: 4.1980\n",
            "Epoch 218/500\n",
            "10/10 [==============================] - 0s 3ms/step - loss: 1.4619 - mae: 1.4619 - mse: 5.4964 - val_loss: 1.3252 - val_mae: 1.3252 - val_mse: 4.1317\n",
            "Epoch 219/500\n",
            "10/10 [==============================] - 0s 3ms/step - loss: 1.4370 - mae: 1.4370 - mse: 5.4524 - val_loss: 1.2945 - val_mae: 1.2945 - val_mse: 4.0759\n",
            "Epoch 220/500\n",
            "10/10 [==============================] - 0s 4ms/step - loss: 1.4142 - mae: 1.4142 - mse: 5.4322 - val_loss: 1.2626 - val_mae: 1.2626 - val_mse: 4.0249\n",
            "Epoch 221/500\n",
            "10/10 [==============================] - 0s 4ms/step - loss: 1.3943 - mae: 1.3943 - mse: 5.4084 - val_loss: 1.2392 - val_mae: 1.2392 - val_mse: 3.9829\n",
            "Epoch 222/500\n",
            "10/10 [==============================] - 0s 4ms/step - loss: 1.3793 - mae: 1.3793 - mse: 5.3966 - val_loss: 1.2218 - val_mae: 1.2218 - val_mse: 3.9550\n",
            "Epoch 223/500\n",
            "10/10 [==============================] - 0s 4ms/step - loss: 1.3675 - mae: 1.3675 - mse: 5.3923 - val_loss: 1.2053 - val_mae: 1.2053 - val_mse: 3.9325\n",
            "Epoch 224/500\n",
            "10/10 [==============================] - 0s 4ms/step - loss: 1.3560 - mae: 1.3560 - mse: 5.3848 - val_loss: 1.1896 - val_mae: 1.1896 - val_mse: 3.9143\n",
            "Epoch 225/500\n",
            "10/10 [==============================] - 0s 4ms/step - loss: 1.3455 - mae: 1.3455 - mse: 5.3804 - val_loss: 1.1759 - val_mae: 1.1759 - val_mse: 3.9008\n",
            "Epoch 226/500\n",
            "10/10 [==============================] - 0s 4ms/step - loss: 1.3393 - mae: 1.3393 - mse: 5.3885 - val_loss: 1.1664 - val_mae: 1.1664 - val_mse: 3.8902\n",
            "Epoch 227/500\n",
            "10/10 [==============================] - 0s 4ms/step - loss: 1.3341 - mae: 1.3341 - mse: 5.3903 - val_loss: 1.1588 - val_mae: 1.1588 - val_mse: 3.8833\n",
            "Epoch 228/500\n",
            "10/10 [==============================] - 0s 4ms/step - loss: 1.3296 - mae: 1.3296 - mse: 5.3945 - val_loss: 1.1521 - val_mae: 1.1521 - val_mse: 3.8784\n",
            "Epoch 229/500\n",
            "10/10 [==============================] - 0s 5ms/step - loss: 1.3255 - mae: 1.3255 - mse: 5.3985 - val_loss: 1.1454 - val_mae: 1.1454 - val_mse: 3.8747\n",
            "Epoch 230/500\n",
            "10/10 [==============================] - 0s 4ms/step - loss: 1.3215 - mae: 1.3215 - mse: 5.4042 - val_loss: 1.1385 - val_mae: 1.1385 - val_mse: 3.8723\n",
            "Epoch 231/500\n",
            "10/10 [==============================] - 0s 5ms/step - loss: 1.3175 - mae: 1.3175 - mse: 5.4143 - val_loss: 1.1318 - val_mae: 1.1318 - val_mse: 3.8713\n",
            "Epoch 232/500\n",
            "10/10 [==============================] - 0s 4ms/step - loss: 1.3139 - mae: 1.3139 - mse: 5.4250 - val_loss: 1.1266 - val_mae: 1.1266 - val_mse: 3.8714\n",
            "Epoch 233/500\n",
            "10/10 [==============================] - 0s 4ms/step - loss: 1.3117 - mae: 1.3117 - mse: 5.4272 - val_loss: 1.1239 - val_mae: 1.1239 - val_mse: 3.8713\n",
            "Epoch 234/500\n",
            "10/10 [==============================] - 0s 4ms/step - loss: 1.3104 - mae: 1.3104 - mse: 5.4320 - val_loss: 1.1220 - val_mae: 1.1220 - val_mse: 3.8710\n",
            "Epoch 235/500\n",
            "10/10 [==============================] - 0s 5ms/step - loss: 1.3095 - mae: 1.3095 - mse: 5.4351 - val_loss: 1.1201 - val_mae: 1.1201 - val_mse: 3.8708\n",
            "Epoch 236/500\n",
            "10/10 [==============================] - 0s 4ms/step - loss: 1.3088 - mae: 1.3088 - mse: 5.4388 - val_loss: 1.1180 - val_mae: 1.1180 - val_mse: 3.8711\n",
            "Epoch 237/500\n",
            "10/10 [==============================] - 0s 4ms/step - loss: 1.3078 - mae: 1.3078 - mse: 5.4429 - val_loss: 1.1161 - val_mae: 1.1161 - val_mse: 3.8712\n",
            "Epoch 238/500\n",
            "10/10 [==============================] - 0s 4ms/step - loss: 1.3069 - mae: 1.3069 - mse: 5.4454 - val_loss: 1.1140 - val_mae: 1.1140 - val_mse: 3.8719\n",
            "Epoch 239/500\n",
            "10/10 [==============================] - 0s 5ms/step - loss: 1.3059 - mae: 1.3059 - mse: 5.4502 - val_loss: 1.1119 - val_mae: 1.1119 - val_mse: 3.8726\n",
            "Epoch 240/500\n",
            "10/10 [==============================] - 0s 4ms/step - loss: 1.3050 - mae: 1.3050 - mse: 5.4541 - val_loss: 1.1100 - val_mae: 1.1100 - val_mse: 3.8734\n",
            "Epoch 241/500\n",
            "10/10 [==============================] - 0s 4ms/step - loss: 1.3041 - mae: 1.3041 - mse: 5.4588 - val_loss: 1.1079 - val_mae: 1.1079 - val_mse: 3.8746\n",
            "Epoch 242/500\n",
            "10/10 [==============================] - 0s 4ms/step - loss: 1.3032 - mae: 1.3032 - mse: 5.4640 - val_loss: 1.1057 - val_mae: 1.1057 - val_mse: 3.8761\n",
            "Epoch 243/500\n",
            "10/10 [==============================] - 0s 4ms/step - loss: 1.3022 - mae: 1.3022 - mse: 5.4678 - val_loss: 1.1037 - val_mae: 1.1037 - val_mse: 3.8776\n",
            "Epoch 244/500\n",
            "10/10 [==============================] - 0s 4ms/step - loss: 1.3013 - mae: 1.3013 - mse: 5.4733 - val_loss: 1.1015 - val_mae: 1.1015 - val_mse: 3.8797\n",
            "Epoch 245/500\n",
            "10/10 [==============================] - 0s 4ms/step - loss: 1.3003 - mae: 1.3003 - mse: 5.4778 - val_loss: 1.0999 - val_mae: 1.0999 - val_mse: 3.8808\n",
            "Epoch 246/500\n",
            "10/10 [==============================] - 0s 4ms/step - loss: 1.3001 - mae: 1.3001 - mse: 5.4858 - val_loss: 1.0978 - val_mae: 1.0978 - val_mse: 3.8841\n",
            "Epoch 247/500\n",
            "10/10 [==============================] - 0s 4ms/step - loss: 1.2993 - mae: 1.2993 - mse: 5.4868 - val_loss: 1.0978 - val_mae: 1.0978 - val_mse: 3.8807\n",
            "Epoch 248/500\n",
            "10/10 [==============================] - 0s 4ms/step - loss: 1.2988 - mae: 1.2988 - mse: 5.4809 - val_loss: 1.0980 - val_mae: 1.0980 - val_mse: 3.8777\n",
            "Epoch 249/500\n",
            "10/10 [==============================] - 0s 5ms/step - loss: 1.2985 - mae: 1.2985 - mse: 5.4788 - val_loss: 1.0971 - val_mae: 1.0971 - val_mse: 3.8774\n",
            "Epoch 250/500\n",
            "10/10 [==============================] - 0s 4ms/step - loss: 1.2981 - mae: 1.2981 - mse: 5.4792 - val_loss: 1.0967 - val_mae: 1.0967 - val_mse: 3.8756\n",
            "Epoch 251/500\n",
            "10/10 [==============================] - 0s 4ms/step - loss: 1.2977 - mae: 1.2977 - mse: 5.4760 - val_loss: 1.0964 - val_mae: 1.0964 - val_mse: 3.8740\n",
            "Epoch 252/500\n",
            "10/10 [==============================] - 0s 4ms/step - loss: 1.2975 - mae: 1.2975 - mse: 5.4743 - val_loss: 1.0960 - val_mae: 1.0960 - val_mse: 3.8723\n",
            "Epoch 253/500\n",
            "10/10 [==============================] - 0s 4ms/step - loss: 1.2974 - mae: 1.2974 - mse: 5.4769 - val_loss: 1.0951 - val_mae: 1.0951 - val_mse: 3.8730\n",
            "Epoch 254/500\n",
            "10/10 [==============================] - 0s 4ms/step - loss: 1.2969 - mae: 1.2969 - mse: 5.4740 - val_loss: 1.0954 - val_mae: 1.0954 - val_mse: 3.8685\n",
            "Epoch 255/500\n",
            "10/10 [==============================] - 0s 4ms/step - loss: 1.2965 - mae: 1.2965 - mse: 5.4680 - val_loss: 1.0951 - val_mae: 1.0951 - val_mse: 3.8666\n",
            "Epoch 256/500\n",
            "10/10 [==============================] - 0s 3ms/step - loss: 1.2960 - mae: 1.2960 - mse: 5.4677 - val_loss: 1.0942 - val_mae: 1.0942 - val_mse: 3.8669\n",
            "Epoch 257/500\n",
            "10/10 [==============================] - 0s 4ms/step - loss: 1.2958 - mae: 1.2958 - mse: 5.4687 - val_loss: 1.0939 - val_mae: 1.0939 - val_mse: 3.8648\n",
            "Epoch 258/500\n",
            "10/10 [==============================] - 0s 4ms/step - loss: 1.2956 - mae: 1.2956 - mse: 5.4637 - val_loss: 1.0945 - val_mae: 1.0945 - val_mse: 3.8604\n",
            "Epoch 259/500\n",
            "10/10 [==============================] - 0s 4ms/step - loss: 1.2950 - mae: 1.2950 - mse: 5.4604 - val_loss: 1.0932 - val_mae: 1.0932 - val_mse: 3.8608\n",
            "Epoch 260/500\n",
            "10/10 [==============================] - 0s 4ms/step - loss: 1.2946 - mae: 1.2946 - mse: 5.4607 - val_loss: 1.0929 - val_mae: 1.0929 - val_mse: 3.8588\n",
            "Epoch 261/500\n",
            "10/10 [==============================] - 0s 4ms/step - loss: 1.2942 - mae: 1.2942 - mse: 5.4585 - val_loss: 1.0924 - val_mae: 1.0924 - val_mse: 3.8575\n",
            "Epoch 262/500\n",
            "10/10 [==============================] - 0s 4ms/step - loss: 1.2941 - mae: 1.2941 - mse: 5.4580 - val_loss: 1.0923 - val_mae: 1.0923 - val_mse: 3.8550\n",
            "Epoch 263/500\n",
            "10/10 [==============================] - 0s 4ms/step - loss: 1.2937 - mae: 1.2937 - mse: 5.4569 - val_loss: 1.0915 - val_mae: 1.0915 - val_mse: 3.8548\n",
            "Epoch 264/500\n",
            "10/10 [==============================] - 0s 4ms/step - loss: 1.2934 - mae: 1.2934 - mse: 5.4526 - val_loss: 1.0920 - val_mae: 1.0920 - val_mse: 3.8506\n",
            "Epoch 265/500\n",
            "10/10 [==============================] - 0s 5ms/step - loss: 1.2931 - mae: 1.2931 - mse: 5.4508 - val_loss: 1.0907 - val_mae: 1.0907 - val_mse: 3.8512\n",
            "Epoch 266/500\n",
            "10/10 [==============================] - 0s 5ms/step - loss: 1.2925 - mae: 1.2925 - mse: 5.4489 - val_loss: 1.0909 - val_mae: 1.0909 - val_mse: 3.8478\n",
            "Epoch 267/500\n",
            "10/10 [==============================] - 0s 4ms/step - loss: 1.2920 - mae: 1.2920 - mse: 5.4476 - val_loss: 1.0899 - val_mae: 1.0899 - val_mse: 3.8480\n",
            "Epoch 268/500\n",
            "10/10 [==============================] - 0s 4ms/step - loss: 1.2919 - mae: 1.2919 - mse: 5.4486 - val_loss: 1.0895 - val_mae: 1.0895 - val_mse: 3.8461\n",
            "Epoch 269/500\n",
            "10/10 [==============================] - 0s 4ms/step - loss: 1.2912 - mae: 1.2912 - mse: 5.4431 - val_loss: 1.0896 - val_mae: 1.0896 - val_mse: 3.8428\n",
            "Epoch 270/500\n",
            "10/10 [==============================] - 0s 4ms/step - loss: 1.2910 - mae: 1.2910 - mse: 5.4401 - val_loss: 1.0890 - val_mae: 1.0890 - val_mse: 3.8413\n",
            "Epoch 271/500\n",
            "10/10 [==============================] - 0s 4ms/step - loss: 1.2905 - mae: 1.2905 - mse: 5.4407 - val_loss: 1.0883 - val_mae: 1.0883 - val_mse: 3.8406\n",
            "Epoch 272/500\n",
            "10/10 [==============================] - 0s 5ms/step - loss: 1.2903 - mae: 1.2903 - mse: 5.4387 - val_loss: 1.0883 - val_mae: 1.0883 - val_mse: 3.8374\n",
            "Epoch 273/500\n",
            "10/10 [==============================] - 0s 4ms/step - loss: 1.2897 - mae: 1.2897 - mse: 5.4355 - val_loss: 1.0875 - val_mae: 1.0875 - val_mse: 3.8370\n",
            "Epoch 274/500\n",
            "10/10 [==============================] - 0s 4ms/step - loss: 1.2895 - mae: 1.2895 - mse: 5.4370 - val_loss: 1.0869 - val_mae: 1.0869 - val_mse: 3.8357\n",
            "Epoch 275/500\n",
            "10/10 [==============================] - 0s 5ms/step - loss: 1.2891 - mae: 1.2891 - mse: 5.4321 - val_loss: 1.0874 - val_mae: 1.0874 - val_mse: 3.8313\n",
            "Epoch 276/500\n",
            "10/10 [==============================] - 0s 4ms/step - loss: 1.2887 - mae: 1.2887 - mse: 5.4297 - val_loss: 1.0863 - val_mae: 1.0863 - val_mse: 3.8310\n",
            "Epoch 277/500\n",
            "10/10 [==============================] - 0s 5ms/step - loss: 1.2882 - mae: 1.2882 - mse: 5.4283 - val_loss: 1.0859 - val_mae: 1.0859 - val_mse: 3.8292\n",
            "Epoch 278/500\n",
            "10/10 [==============================] - 0s 4ms/step - loss: 1.2878 - mae: 1.2878 - mse: 5.4264 - val_loss: 1.0856 - val_mae: 1.0856 - val_mse: 3.8269\n",
            "Epoch 279/500\n",
            "10/10 [==============================] - 0s 4ms/step - loss: 1.2874 - mae: 1.2874 - mse: 5.4252 - val_loss: 1.0849 - val_mae: 1.0849 - val_mse: 3.8260\n",
            "Epoch 280/500\n",
            "10/10 [==============================] - 0s 4ms/step - loss: 1.2871 - mae: 1.2871 - mse: 5.4217 - val_loss: 1.0850 - val_mae: 1.0850 - val_mse: 3.8228\n",
            "Epoch 281/500\n",
            "10/10 [==============================] - 0s 4ms/step - loss: 1.2866 - mae: 1.2866 - mse: 5.4213 - val_loss: 1.0840 - val_mae: 1.0840 - val_mse: 3.8227\n",
            "Epoch 282/500\n",
            "10/10 [==============================] - 0s 4ms/step - loss: 1.2862 - mae: 1.2862 - mse: 5.4192 - val_loss: 1.0839 - val_mae: 1.0839 - val_mse: 3.8197\n",
            "Epoch 283/500\n",
            "10/10 [==============================] - 0s 4ms/step - loss: 1.2858 - mae: 1.2858 - mse: 5.4158 - val_loss: 1.0834 - val_mae: 1.0834 - val_mse: 3.8180\n",
            "Epoch 284/500\n",
            "10/10 [==============================] - 0s 4ms/step - loss: 1.2854 - mae: 1.2854 - mse: 5.4143 - val_loss: 1.0827 - val_mae: 1.0827 - val_mse: 3.8171\n",
            "Epoch 285/500\n",
            "10/10 [==============================] - 0s 4ms/step - loss: 1.2851 - mae: 1.2851 - mse: 5.4151 - val_loss: 1.0822 - val_mae: 1.0822 - val_mse: 3.8154\n",
            "Epoch 286/500\n",
            "10/10 [==============================] - 0s 5ms/step - loss: 1.2846 - mae: 1.2846 - mse: 5.4114 - val_loss: 1.0824 - val_mae: 1.0824 - val_mse: 3.8119\n",
            "Epoch 287/500\n",
            "10/10 [==============================] - 0s 4ms/step - loss: 1.2842 - mae: 1.2842 - mse: 5.4074 - val_loss: 1.0815 - val_mae: 1.0815 - val_mse: 3.8107\n",
            "Epoch 288/500\n",
            "10/10 [==============================] - 0s 4ms/step - loss: 1.2840 - mae: 1.2840 - mse: 5.4096 - val_loss: 1.0807 - val_mae: 1.0807 - val_mse: 3.8105\n",
            "Epoch 289/500\n",
            "10/10 [==============================] - 0s 4ms/step - loss: 1.2834 - mae: 1.2834 - mse: 5.4062 - val_loss: 1.0810 - val_mae: 1.0810 - val_mse: 3.8061\n",
            "Epoch 290/500\n",
            "10/10 [==============================] - 0s 4ms/step - loss: 1.2832 - mae: 1.2832 - mse: 5.4032 - val_loss: 1.0801 - val_mae: 1.0801 - val_mse: 3.8053\n",
            "Epoch 291/500\n",
            "10/10 [==============================] - 0s 4ms/step - loss: 1.2826 - mae: 1.2826 - mse: 5.3998 - val_loss: 1.0800 - val_mae: 1.0800 - val_mse: 3.8026\n",
            "Epoch 292/500\n",
            "10/10 [==============================] - 0s 4ms/step - loss: 1.2821 - mae: 1.2821 - mse: 5.3978 - val_loss: 1.0791 - val_mae: 1.0791 - val_mse: 3.8020\n",
            "Epoch 293/500\n",
            "10/10 [==============================] - 0s 4ms/step - loss: 1.2819 - mae: 1.2819 - mse: 5.3998 - val_loss: 1.0784 - val_mae: 1.0784 - val_mse: 3.8010\n",
            "Epoch 294/500\n",
            "10/10 [==============================] - 0s 4ms/step - loss: 1.2816 - mae: 1.2816 - mse: 5.3956 - val_loss: 1.0789 - val_mae: 1.0789 - val_mse: 3.7962\n",
            "Epoch 295/500\n",
            "10/10 [==============================] - 0s 4ms/step - loss: 1.2809 - mae: 1.2809 - mse: 5.3919 - val_loss: 1.0779 - val_mae: 1.0779 - val_mse: 3.7954\n",
            "Epoch 296/500\n",
            "10/10 [==============================] - 0s 5ms/step - loss: 1.2805 - mae: 1.2805 - mse: 5.3895 - val_loss: 1.0774 - val_mae: 1.0774 - val_mse: 3.7935\n",
            "Epoch 297/500\n",
            "10/10 [==============================] - 0s 5ms/step - loss: 1.2801 - mae: 1.2801 - mse: 5.3892 - val_loss: 1.0771 - val_mae: 1.0771 - val_mse: 3.7913\n",
            "Epoch 298/500\n",
            "10/10 [==============================] - 0s 4ms/step - loss: 1.2796 - mae: 1.2796 - mse: 5.3865 - val_loss: 1.0766 - val_mae: 1.0766 - val_mse: 3.7895\n",
            "Epoch 299/500\n",
            "10/10 [==============================] - 0s 4ms/step - loss: 1.2793 - mae: 1.2793 - mse: 5.3850 - val_loss: 1.0762 - val_mae: 1.0762 - val_mse: 3.7873\n",
            "Epoch 300/500\n",
            "10/10 [==============================] - 0s 4ms/step - loss: 1.2788 - mae: 1.2788 - mse: 5.3813 - val_loss: 1.0755 - val_mae: 1.0755 - val_mse: 3.7859\n",
            "Epoch 301/500\n",
            "10/10 [==============================] - 0s 4ms/step - loss: 1.2783 - mae: 1.2783 - mse: 5.3798 - val_loss: 1.0752 - val_mae: 1.0752 - val_mse: 3.7835\n",
            "Epoch 302/500\n",
            "10/10 [==============================] - 0s 4ms/step - loss: 1.2779 - mae: 1.2779 - mse: 5.3787 - val_loss: 1.0745 - val_mae: 1.0745 - val_mse: 3.7822\n",
            "Epoch 303/500\n",
            "10/10 [==============================] - 0s 4ms/step - loss: 1.2778 - mae: 1.2778 - mse: 5.3747 - val_loss: 1.0749 - val_mae: 1.0749 - val_mse: 3.7781\n",
            "Epoch 304/500\n",
            "10/10 [==============================] - 0s 4ms/step - loss: 1.2771 - mae: 1.2771 - mse: 5.3739 - val_loss: 1.0734 - val_mae: 1.0734 - val_mse: 3.7788\n",
            "Epoch 305/500\n",
            "10/10 [==============================] - 0s 5ms/step - loss: 1.2766 - mae: 1.2766 - mse: 5.3731 - val_loss: 1.0731 - val_mae: 1.0731 - val_mse: 3.7760\n",
            "Epoch 306/500\n",
            "10/10 [==============================] - 0s 4ms/step - loss: 1.2761 - mae: 1.2761 - mse: 5.3687 - val_loss: 1.0726 - val_mae: 1.0726 - val_mse: 3.7738\n",
            "Epoch 307/500\n",
            "10/10 [==============================] - 0s 4ms/step - loss: 1.2757 - mae: 1.2757 - mse: 5.3684 - val_loss: 1.0722 - val_mae: 1.0722 - val_mse: 3.7716\n",
            "Epoch 308/500\n",
            "10/10 [==============================] - 0s 4ms/step - loss: 1.2752 - mae: 1.2752 - mse: 5.3643 - val_loss: 1.0716 - val_mae: 1.0716 - val_mse: 3.7697\n",
            "Epoch 309/500\n",
            "10/10 [==============================] - 0s 5ms/step - loss: 1.2747 - mae: 1.2747 - mse: 5.3630 - val_loss: 1.0711 - val_mae: 1.0711 - val_mse: 3.7680\n",
            "Epoch 310/500\n",
            "10/10 [==============================] - 0s 4ms/step - loss: 1.2744 - mae: 1.2744 - mse: 5.3623 - val_loss: 1.0706 - val_mae: 1.0706 - val_mse: 3.7660\n",
            "Epoch 311/500\n",
            "10/10 [==============================] - 0s 4ms/step - loss: 1.2738 - mae: 1.2738 - mse: 5.3585 - val_loss: 1.0706 - val_mae: 1.0706 - val_mse: 3.7626\n",
            "Epoch 312/500\n",
            "10/10 [==============================] - 0s 4ms/step - loss: 1.2736 - mae: 1.2736 - mse: 5.3539 - val_loss: 1.0699 - val_mae: 1.0699 - val_mse: 3.7610\n",
            "Epoch 313/500\n",
            "10/10 [==============================] - 0s 5ms/step - loss: 1.2730 - mae: 1.2730 - mse: 5.3548 - val_loss: 1.0691 - val_mae: 1.0691 - val_mse: 3.7599\n",
            "Epoch 314/500\n",
            "10/10 [==============================] - 0s 4ms/step - loss: 1.2727 - mae: 1.2727 - mse: 5.3501 - val_loss: 1.0693 - val_mae: 1.0693 - val_mse: 3.7562\n",
            "Epoch 315/500\n",
            "10/10 [==============================] - 0s 4ms/step - loss: 1.2721 - mae: 1.2721 - mse: 5.3481 - val_loss: 1.0679 - val_mae: 1.0679 - val_mse: 3.7566\n",
            "Epoch 316/500\n",
            "10/10 [==============================] - 0s 4ms/step - loss: 1.2719 - mae: 1.2719 - mse: 5.3518 - val_loss: 1.0671 - val_mae: 1.0671 - val_mse: 3.7558\n",
            "Epoch 317/500\n",
            "10/10 [==============================] - 0s 4ms/step - loss: 1.2717 - mae: 1.2717 - mse: 5.3457 - val_loss: 1.0677 - val_mae: 1.0677 - val_mse: 3.7504\n",
            "Epoch 318/500\n",
            "10/10 [==============================] - 0s 5ms/step - loss: 1.2706 - mae: 1.2706 - mse: 5.3429 - val_loss: 1.0664 - val_mae: 1.0664 - val_mse: 3.7510\n",
            "Epoch 319/500\n",
            "10/10 [==============================] - 0s 5ms/step - loss: 1.2705 - mae: 1.2705 - mse: 5.3431 - val_loss: 1.0662 - val_mae: 1.0662 - val_mse: 3.7480\n",
            "Epoch 320/500\n",
            "10/10 [==============================] - 0s 4ms/step - loss: 1.2698 - mae: 1.2698 - mse: 5.3394 - val_loss: 1.0661 - val_mae: 1.0661 - val_mse: 3.7448\n",
            "Epoch 321/500\n",
            "10/10 [==============================] - 0s 4ms/step - loss: 1.2693 - mae: 1.2693 - mse: 5.3367 - val_loss: 1.0654 - val_mae: 1.0654 - val_mse: 3.7433\n",
            "Epoch 322/500\n",
            "10/10 [==============================] - 0s 5ms/step - loss: 1.2689 - mae: 1.2689 - mse: 5.3335 - val_loss: 1.0651 - val_mae: 1.0651 - val_mse: 3.7406\n",
            "Epoch 323/500\n",
            "10/10 [==============================] - 0s 4ms/step - loss: 1.2686 - mae: 1.2686 - mse: 5.3339 - val_loss: 1.0642 - val_mae: 1.0642 - val_mse: 3.7399\n",
            "Epoch 324/500\n",
            "10/10 [==============================] - 0s 4ms/step - loss: 1.2681 - mae: 1.2681 - mse: 5.3282 - val_loss: 1.0647 - val_mae: 1.0647 - val_mse: 3.7356\n",
            "Epoch 325/500\n",
            "10/10 [==============================] - 0s 4ms/step - loss: 1.2677 - mae: 1.2677 - mse: 5.3282 - val_loss: 1.0635 - val_mae: 1.0635 - val_mse: 3.7351\n",
            "Epoch 326/500\n",
            "10/10 [==============================] - 0s 4ms/step - loss: 1.2672 - mae: 1.2672 - mse: 5.3248 - val_loss: 1.0634 - val_mae: 1.0634 - val_mse: 3.7319\n",
            "Epoch 327/500\n",
            "10/10 [==============================] - 0s 4ms/step - loss: 1.2669 - mae: 1.2669 - mse: 5.3247 - val_loss: 1.0620 - val_mae: 1.0620 - val_mse: 3.7327\n",
            "Epoch 328/500\n",
            "10/10 [==============================] - 0s 5ms/step - loss: 1.2664 - mae: 1.2664 - mse: 5.3229 - val_loss: 1.0628 - val_mae: 1.0628 - val_mse: 3.7272\n",
            "Epoch 329/500\n",
            "10/10 [==============================] - 0s 4ms/step - loss: 1.2662 - mae: 1.2662 - mse: 5.3200 - val_loss: 1.0613 - val_mae: 1.0613 - val_mse: 3.7276\n",
            "Epoch 330/500\n",
            "10/10 [==============================] - 0s 5ms/step - loss: 1.2654 - mae: 1.2654 - mse: 5.3158 - val_loss: 1.0618 - val_mae: 1.0618 - val_mse: 3.7230\n",
            "Epoch 331/500\n",
            "10/10 [==============================] - 0s 4ms/step - loss: 1.2648 - mae: 1.2648 - mse: 5.3133 - val_loss: 1.0605 - val_mae: 1.0605 - val_mse: 3.7227\n",
            "Epoch 332/500\n",
            "10/10 [==============================] - 0s 4ms/step - loss: 1.2643 - mae: 1.2643 - mse: 5.3120 - val_loss: 1.0608 - val_mae: 1.0608 - val_mse: 3.7187\n",
            "Epoch 333/500\n",
            "10/10 [==============================] - 0s 4ms/step - loss: 1.2639 - mae: 1.2639 - mse: 5.3073 - val_loss: 1.0598 - val_mae: 1.0598 - val_mse: 3.7176\n",
            "Epoch 334/500\n",
            "10/10 [==============================] - 0s 4ms/step - loss: 1.2634 - mae: 1.2634 - mse: 5.3090 - val_loss: 1.0589 - val_mae: 1.0589 - val_mse: 3.7167\n",
            "Epoch 335/500\n",
            "10/10 [==============================] - 0s 5ms/step - loss: 1.2628 - mae: 1.2628 - mse: 5.3059 - val_loss: 1.0592 - val_mae: 1.0592 - val_mse: 3.7128\n",
            "Epoch 336/500\n",
            "10/10 [==============================] - 0s 5ms/step - loss: 1.2626 - mae: 1.2626 - mse: 5.3038 - val_loss: 1.0583 - val_mae: 1.0583 - val_mse: 3.7113\n",
            "Epoch 337/500\n",
            "10/10 [==============================] - 0s 5ms/step - loss: 1.2619 - mae: 1.2619 - mse: 5.2991 - val_loss: 1.0578 - val_mae: 1.0578 - val_mse: 3.7093\n",
            "Epoch 338/500\n",
            "10/10 [==============================] - 0s 5ms/step - loss: 1.2614 - mae: 1.2614 - mse: 5.2976 - val_loss: 1.0578 - val_mae: 1.0578 - val_mse: 3.7061\n",
            "Epoch 339/500\n",
            "10/10 [==============================] - 0s 4ms/step - loss: 1.2610 - mae: 1.2610 - mse: 5.2939 - val_loss: 1.0567 - val_mae: 1.0567 - val_mse: 3.7049\n",
            "Epoch 340/500\n",
            "10/10 [==============================] - 0s 5ms/step - loss: 1.2604 - mae: 1.2604 - mse: 5.2945 - val_loss: 1.0561 - val_mae: 1.0561 - val_mse: 3.7032\n",
            "Epoch 341/500\n",
            "10/10 [==============================] - 0s 4ms/step - loss: 1.2599 - mae: 1.2599 - mse: 5.2920 - val_loss: 1.0559 - val_mae: 1.0559 - val_mse: 3.7002\n",
            "Epoch 342/500\n",
            "10/10 [==============================] - 0s 5ms/step - loss: 1.2595 - mae: 1.2595 - mse: 5.2879 - val_loss: 1.0550 - val_mae: 1.0550 - val_mse: 3.6989\n",
            "Epoch 343/500\n",
            "10/10 [==============================] - 0s 4ms/step - loss: 1.2590 - mae: 1.2590 - mse: 5.2867 - val_loss: 1.0546 - val_mae: 1.0546 - val_mse: 3.6964\n",
            "Epoch 344/500\n",
            "10/10 [==============================] - 0s 4ms/step - loss: 1.2584 - mae: 1.2584 - mse: 5.2848 - val_loss: 1.0545 - val_mae: 1.0545 - val_mse: 3.6933\n",
            "Epoch 345/500\n",
            "10/10 [==============================] - 0s 4ms/step - loss: 1.2581 - mae: 1.2581 - mse: 5.2800 - val_loss: 1.0539 - val_mae: 1.0539 - val_mse: 3.6912\n",
            "Epoch 346/500\n",
            "10/10 [==============================] - 0s 4ms/step - loss: 1.2574 - mae: 1.2574 - mse: 5.2786 - val_loss: 1.0530 - val_mae: 1.0530 - val_mse: 3.6898\n",
            "Epoch 347/500\n",
            "10/10 [==============================] - 0s 4ms/step - loss: 1.2571 - mae: 1.2571 - mse: 5.2787 - val_loss: 1.0523 - val_mae: 1.0523 - val_mse: 3.6884\n",
            "Epoch 348/500\n",
            "10/10 [==============================] - 0s 5ms/step - loss: 1.2564 - mae: 1.2564 - mse: 5.2749 - val_loss: 1.0525 - val_mae: 1.0525 - val_mse: 3.6842\n",
            "Epoch 349/500\n",
            "10/10 [==============================] - 0s 5ms/step - loss: 1.2565 - mae: 1.2565 - mse: 5.2670 - val_loss: 1.0530 - val_mae: 1.0530 - val_mse: 3.6802\n",
            "Epoch 350/500\n",
            "10/10 [==============================] - 0s 4ms/step - loss: 1.2560 - mae: 1.2560 - mse: 5.2686 - val_loss: 1.0505 - val_mae: 1.0505 - val_mse: 3.6828\n",
            "Epoch 351/500\n",
            "10/10 [==============================] - 0s 4ms/step - loss: 1.2552 - mae: 1.2552 - mse: 5.2696 - val_loss: 1.0506 - val_mae: 1.0506 - val_mse: 3.6783\n",
            "Epoch 352/500\n",
            "10/10 [==============================] - 0s 5ms/step - loss: 1.2547 - mae: 1.2547 - mse: 5.2619 - val_loss: 1.0510 - val_mae: 1.0510 - val_mse: 3.6743\n",
            "Epoch 353/500\n",
            "10/10 [==============================] - 0s 4ms/step - loss: 1.2546 - mae: 1.2546 - mse: 5.2636 - val_loss: 1.0489 - val_mae: 1.0489 - val_mse: 3.6761\n",
            "Epoch 354/500\n",
            "10/10 [==============================] - 0s 4ms/step - loss: 1.2534 - mae: 1.2534 - mse: 5.2622 - val_loss: 1.0494 - val_mae: 1.0494 - val_mse: 3.6707\n",
            "Epoch 355/500\n",
            "10/10 [==============================] - 0s 4ms/step - loss: 1.2529 - mae: 1.2529 - mse: 5.2570 - val_loss: 1.0485 - val_mae: 1.0485 - val_mse: 3.6690\n",
            "Epoch 356/500\n",
            "10/10 [==============================] - 0s 5ms/step - loss: 1.2524 - mae: 1.2524 - mse: 5.2557 - val_loss: 1.0480 - val_mae: 1.0480 - val_mse: 3.6668\n",
            "Epoch 357/500\n",
            "10/10 [==============================] - 0s 5ms/step - loss: 1.2519 - mae: 1.2519 - mse: 5.2514 - val_loss: 1.0475 - val_mae: 1.0475 - val_mse: 3.6643\n",
            "Epoch 358/500\n",
            "10/10 [==============================] - 0s 4ms/step - loss: 1.2513 - mae: 1.2513 - mse: 5.2505 - val_loss: 1.0467 - val_mae: 1.0467 - val_mse: 3.6628\n",
            "Epoch 359/500\n",
            "10/10 [==============================] - 0s 5ms/step - loss: 1.2508 - mae: 1.2508 - mse: 5.2478 - val_loss: 1.0467 - val_mae: 1.0467 - val_mse: 3.6592\n",
            "Epoch 360/500\n",
            "10/10 [==============================] - 0s 4ms/step - loss: 1.2505 - mae: 1.2505 - mse: 5.2446 - val_loss: 1.0458 - val_mae: 1.0458 - val_mse: 3.6576\n",
            "Epoch 361/500\n",
            "10/10 [==============================] - 0s 4ms/step - loss: 1.2498 - mae: 1.2498 - mse: 5.2409 - val_loss: 1.0454 - val_mae: 1.0454 - val_mse: 3.6550\n",
            "Epoch 362/500\n",
            "10/10 [==============================] - 0s 5ms/step - loss: 1.2493 - mae: 1.2493 - mse: 5.2402 - val_loss: 1.0447 - val_mae: 1.0447 - val_mse: 3.6530\n",
            "Epoch 363/500\n",
            "10/10 [==============================] - 0s 5ms/step - loss: 1.2486 - mae: 1.2486 - mse: 5.2373 - val_loss: 1.0441 - val_mae: 1.0441 - val_mse: 3.6509\n",
            "Epoch 364/500\n",
            "10/10 [==============================] - 0s 5ms/step - loss: 1.2481 - mae: 1.2481 - mse: 5.2354 - val_loss: 1.0435 - val_mae: 1.0435 - val_mse: 3.6489\n",
            "Epoch 365/500\n",
            "10/10 [==============================] - 0s 4ms/step - loss: 1.2476 - mae: 1.2476 - mse: 5.2336 - val_loss: 1.0433 - val_mae: 1.0433 - val_mse: 3.6455\n",
            "Epoch 366/500\n",
            "10/10 [==============================] - 0s 4ms/step - loss: 1.2473 - mae: 1.2473 - mse: 5.2275 - val_loss: 1.0431 - val_mae: 1.0431 - val_mse: 3.6425\n",
            "Epoch 367/500\n",
            "10/10 [==============================] - 0s 4ms/step - loss: 1.2468 - mae: 1.2468 - mse: 5.2285 - val_loss: 1.0413 - val_mae: 1.0413 - val_mse: 3.6436\n",
            "Epoch 368/500\n",
            "10/10 [==============================] - 0s 4ms/step - loss: 1.2463 - mae: 1.2463 - mse: 5.2263 - val_loss: 1.0415 - val_mae: 1.0415 - val_mse: 3.6387\n",
            "Epoch 369/500\n",
            "10/10 [==============================] - 0s 5ms/step - loss: 1.2456 - mae: 1.2456 - mse: 5.2242 - val_loss: 1.0405 - val_mae: 1.0405 - val_mse: 3.6377\n",
            "Epoch 370/500\n",
            "10/10 [==============================] - 0s 4ms/step - loss: 1.2456 - mae: 1.2456 - mse: 5.2175 - val_loss: 1.0415 - val_mae: 1.0415 - val_mse: 3.6321\n",
            "Epoch 371/500\n",
            "10/10 [==============================] - 0s 5ms/step - loss: 1.2444 - mae: 1.2444 - mse: 5.2153 - val_loss: 1.0396 - val_mae: 1.0396 - val_mse: 3.6323\n",
            "Epoch 372/500\n",
            "10/10 [==============================] - 0s 4ms/step - loss: 1.2441 - mae: 1.2441 - mse: 5.2169 - val_loss: 1.0387 - val_mae: 1.0387 - val_mse: 3.6309\n",
            "Epoch 373/500\n",
            "10/10 [==============================] - 0s 4ms/step - loss: 1.2438 - mae: 1.2438 - mse: 5.2121 - val_loss: 1.0390 - val_mae: 1.0390 - val_mse: 3.6262\n",
            "Epoch 374/500\n",
            "10/10 [==============================] - 0s 4ms/step - loss: 1.2436 - mae: 1.2436 - mse: 5.2157 - val_loss: 1.0366 - val_mae: 1.0366 - val_mse: 3.6298\n",
            "Epoch 375/500\n",
            "10/10 [==============================] - 0s 5ms/step - loss: 1.2426 - mae: 1.2426 - mse: 5.2140 - val_loss: 1.0369 - val_mae: 1.0369 - val_mse: 3.6242\n",
            "Epoch 376/500\n",
            "10/10 [==============================] - 0s 5ms/step - loss: 1.2418 - mae: 1.2418 - mse: 5.2049 - val_loss: 1.0376 - val_mae: 1.0376 - val_mse: 3.6186\n",
            "Epoch 377/500\n",
            "10/10 [==============================] - 0s 4ms/step - loss: 1.2411 - mae: 1.2411 - mse: 5.1997 - val_loss: 1.0360 - val_mae: 1.0360 - val_mse: 3.6183\n",
            "Epoch 378/500\n",
            "10/10 [==============================] - 0s 4ms/step - loss: 1.2406 - mae: 1.2406 - mse: 5.2015 - val_loss: 1.0354 - val_mae: 1.0354 - val_mse: 3.6161\n",
            "Epoch 379/500\n",
            "10/10 [==============================] - 0s 5ms/step - loss: 1.2401 - mae: 1.2401 - mse: 5.1970 - val_loss: 1.0351 - val_mae: 1.0351 - val_mse: 3.6128\n",
            "Epoch 380/500\n",
            "10/10 [==============================] - 0s 4ms/step - loss: 1.2393 - mae: 1.2393 - mse: 5.1943 - val_loss: 1.0342 - val_mae: 1.0342 - val_mse: 3.6115\n",
            "Epoch 381/500\n",
            "10/10 [==============================] - 0s 4ms/step - loss: 1.2390 - mae: 1.2390 - mse: 5.1928 - val_loss: 1.0345 - val_mae: 1.0345 - val_mse: 3.6070\n",
            "Epoch 382/500\n",
            "10/10 [==============================] - 0s 4ms/step - loss: 1.2383 - mae: 1.2383 - mse: 5.1879 - val_loss: 1.0330 - val_mae: 1.0330 - val_mse: 3.6067\n",
            "Epoch 383/500\n",
            "10/10 [==============================] - 0s 4ms/step - loss: 1.2377 - mae: 1.2377 - mse: 5.1876 - val_loss: 1.0327 - val_mae: 1.0327 - val_mse: 3.6031\n",
            "Epoch 384/500\n",
            "10/10 [==============================] - 0s 4ms/step - loss: 1.2372 - mae: 1.2372 - mse: 5.1824 - val_loss: 1.0322 - val_mae: 1.0322 - val_mse: 3.6004\n",
            "Epoch 385/500\n",
            "10/10 [==============================] - 0s 5ms/step - loss: 1.2365 - mae: 1.2365 - mse: 5.1827 - val_loss: 1.0311 - val_mae: 1.0311 - val_mse: 3.5997\n",
            "Epoch 386/500\n",
            "10/10 [==============================] - 0s 4ms/step - loss: 1.2361 - mae: 1.2361 - mse: 5.1814 - val_loss: 1.0310 - val_mae: 1.0310 - val_mse: 3.5960\n",
            "Epoch 387/500\n",
            "10/10 [==============================] - 0s 4ms/step - loss: 1.2354 - mae: 1.2354 - mse: 5.1761 - val_loss: 1.0308 - val_mae: 1.0308 - val_mse: 3.5932\n",
            "Epoch 388/500\n",
            "10/10 [==============================] - 0s 5ms/step - loss: 1.2349 - mae: 1.2349 - mse: 5.1733 - val_loss: 1.0298 - val_mae: 1.0298 - val_mse: 3.5918\n",
            "Epoch 389/500\n",
            "10/10 [==============================] - 0s 4ms/step - loss: 1.2350 - mae: 1.2350 - mse: 5.1770 - val_loss: 1.0284 - val_mae: 1.0284 - val_mse: 3.5926\n",
            "Epoch 390/500\n",
            "10/10 [==============================] - 0s 4ms/step - loss: 1.2345 - mae: 1.2345 - mse: 5.1712 - val_loss: 1.0290 - val_mae: 1.0290 - val_mse: 3.5867\n",
            "Epoch 391/500\n",
            "10/10 [==============================] - 0s 5ms/step - loss: 1.2335 - mae: 1.2335 - mse: 5.1675 - val_loss: 1.0284 - val_mae: 1.0284 - val_mse: 3.5846\n",
            "Epoch 392/500\n",
            "10/10 [==============================] - 0s 4ms/step - loss: 1.2331 - mae: 1.2331 - mse: 5.1622 - val_loss: 1.0281 - val_mae: 1.0281 - val_mse: 3.5818\n",
            "Epoch 393/500\n",
            "10/10 [==============================] - 0s 5ms/step - loss: 1.2326 - mae: 1.2326 - mse: 5.1637 - val_loss: 1.0270 - val_mae: 1.0270 - val_mse: 3.5813\n",
            "Epoch 394/500\n",
            "10/10 [==============================] - 0s 5ms/step - loss: 1.2320 - mae: 1.2320 - mse: 5.1593 - val_loss: 1.0271 - val_mae: 1.0271 - val_mse: 3.5771\n",
            "Epoch 395/500\n",
            "10/10 [==============================] - 0s 4ms/step - loss: 1.2317 - mae: 1.2317 - mse: 5.1573 - val_loss: 1.0260 - val_mae: 1.0260 - val_mse: 3.5767\n",
            "Epoch 396/500\n",
            "10/10 [==============================] - 0s 4ms/step - loss: 1.2310 - mae: 1.2310 - mse: 5.1558 - val_loss: 1.0259 - val_mae: 1.0259 - val_mse: 3.5732\n",
            "Epoch 397/500\n",
            "10/10 [==============================] - 0s 5ms/step - loss: 1.2306 - mae: 1.2306 - mse: 5.1500 - val_loss: 1.0255 - val_mae: 1.0255 - val_mse: 3.5705\n",
            "Epoch 398/500\n",
            "10/10 [==============================] - 0s 6ms/step - loss: 1.2298 - mae: 1.2298 - mse: 5.1490 - val_loss: 1.0246 - val_mae: 1.0246 - val_mse: 3.5692\n",
            "Epoch 399/500\n",
            "10/10 [==============================] - 0s 4ms/step - loss: 1.2294 - mae: 1.2294 - mse: 5.1483 - val_loss: 1.0243 - val_mae: 1.0243 - val_mse: 3.5664\n",
            "Epoch 400/500\n",
            "10/10 [==============================] - 0s 5ms/step - loss: 1.2289 - mae: 1.2289 - mse: 5.1431 - val_loss: 1.0238 - val_mae: 1.0238 - val_mse: 3.5640\n",
            "Epoch 401/500\n",
            "10/10 [==============================] - 0s 5ms/step - loss: 1.2284 - mae: 1.2284 - mse: 5.1421 - val_loss: 1.0233 - val_mae: 1.0233 - val_mse: 3.5613\n",
            "Epoch 402/500\n",
            "10/10 [==============================] - 0s 4ms/step - loss: 1.2278 - mae: 1.2278 - mse: 5.1386 - val_loss: 1.0226 - val_mae: 1.0226 - val_mse: 3.5596\n",
            "Epoch 403/500\n",
            "10/10 [==============================] - 0s 5ms/step - loss: 1.2275 - mae: 1.2275 - mse: 5.1389 - val_loss: 1.0219 - val_mae: 1.0219 - val_mse: 3.5579\n",
            "Epoch 404/500\n",
            "10/10 [==============================] - 0s 4ms/step - loss: 1.2269 - mae: 1.2269 - mse: 5.1343 - val_loss: 1.0216 - val_mae: 1.0216 - val_mse: 3.5547\n",
            "Epoch 405/500\n",
            "10/10 [==============================] - 0s 5ms/step - loss: 1.2263 - mae: 1.2263 - mse: 5.1326 - val_loss: 1.0214 - val_mae: 1.0214 - val_mse: 3.5516\n",
            "Epoch 406/500\n",
            "10/10 [==============================] - 0s 5ms/step - loss: 1.2259 - mae: 1.2259 - mse: 5.1291 - val_loss: 1.0208 - val_mae: 1.0208 - val_mse: 3.5495\n",
            "Epoch 407/500\n",
            "10/10 [==============================] - 0s 5ms/step - loss: 1.2255 - mae: 1.2255 - mse: 5.1240 - val_loss: 1.0207 - val_mae: 1.0207 - val_mse: 3.5464\n",
            "Epoch 408/500\n",
            "10/10 [==============================] - 0s 4ms/step - loss: 1.2248 - mae: 1.2248 - mse: 5.1258 - val_loss: 1.0187 - val_mae: 1.0187 - val_mse: 3.5480\n",
            "Epoch 409/500\n",
            "10/10 [==============================] - 0s 5ms/step - loss: 1.2245 - mae: 1.2245 - mse: 5.1277 - val_loss: 1.0181 - val_mae: 1.0181 - val_mse: 3.5456\n",
            "Epoch 410/500\n",
            "10/10 [==============================] - 0s 4ms/step - loss: 1.2238 - mae: 1.2238 - mse: 5.1200 - val_loss: 1.0189 - val_mae: 1.0189 - val_mse: 3.5396\n",
            "Epoch 411/500\n",
            "10/10 [==============================] - 0s 4ms/step - loss: 1.2234 - mae: 1.2234 - mse: 5.1138 - val_loss: 1.0181 - val_mae: 1.0181 - val_mse: 3.5375\n",
            "Epoch 412/500\n",
            "10/10 [==============================] - 0s 4ms/step - loss: 1.2227 - mae: 1.2227 - mse: 5.1162 - val_loss: 1.0168 - val_mae: 1.0168 - val_mse: 3.5373\n",
            "Epoch 413/500\n",
            "10/10 [==============================] - 0s 5ms/step - loss: 1.2221 - mae: 1.2221 - mse: 5.1131 - val_loss: 1.0172 - val_mae: 1.0172 - val_mse: 3.5323\n",
            "Epoch 414/500\n",
            "10/10 [==============================] - 0s 4ms/step - loss: 1.2214 - mae: 1.2214 - mse: 5.1083 - val_loss: 1.0160 - val_mae: 1.0160 - val_mse: 3.5316\n",
            "Epoch 415/500\n",
            "10/10 [==============================] - 0s 5ms/step - loss: 1.2210 - mae: 1.2210 - mse: 5.1071 - val_loss: 1.0157 - val_mae: 1.0157 - val_mse: 3.5286\n",
            "Epoch 416/500\n",
            "10/10 [==============================] - 0s 4ms/step - loss: 1.2206 - mae: 1.2206 - mse: 5.1017 - val_loss: 1.0162 - val_mae: 1.0162 - val_mse: 3.5240\n",
            "Epoch 417/500\n",
            "10/10 [==============================] - 0s 4ms/step - loss: 1.2197 - mae: 1.2197 - mse: 5.0999 - val_loss: 1.0139 - val_mae: 1.0139 - val_mse: 3.5258\n",
            "Epoch 418/500\n",
            "10/10 [==============================] - 0s 5ms/step - loss: 1.2197 - mae: 1.2197 - mse: 5.1030 - val_loss: 1.0135 - val_mae: 1.0135 - val_mse: 3.5229\n",
            "Epoch 419/500\n",
            "10/10 [==============================] - 0s 5ms/step - loss: 1.2189 - mae: 1.2189 - mse: 5.0983 - val_loss: 1.0135 - val_mae: 1.0135 - val_mse: 3.5190\n",
            "Epoch 420/500\n",
            "10/10 [==============================] - 0s 5ms/step - loss: 1.2181 - mae: 1.2181 - mse: 5.0926 - val_loss: 1.0135 - val_mae: 1.0135 - val_mse: 3.5153\n",
            "Epoch 421/500\n",
            "10/10 [==============================] - 0s 5ms/step - loss: 1.2177 - mae: 1.2177 - mse: 5.0897 - val_loss: 1.0123 - val_mae: 1.0123 - val_mse: 3.5144\n",
            "Epoch 422/500\n",
            "10/10 [==============================] - 0s 5ms/step - loss: 1.2173 - mae: 1.2173 - mse: 5.0879 - val_loss: 1.0124 - val_mae: 1.0124 - val_mse: 3.5104\n",
            "Epoch 423/500\n",
            "10/10 [==============================] - 0s 5ms/step - loss: 1.2167 - mae: 1.2167 - mse: 5.0854 - val_loss: 1.0117 - val_mae: 1.0117 - val_mse: 3.5083\n",
            "Epoch 424/500\n",
            "10/10 [==============================] - 0s 4ms/step - loss: 1.2161 - mae: 1.2161 - mse: 5.0831 - val_loss: 1.0108 - val_mae: 1.0108 - val_mse: 3.5065\n",
            "Epoch 425/500\n",
            "10/10 [==============================] - 0s 4ms/step - loss: 1.2156 - mae: 1.2156 - mse: 5.0779 - val_loss: 1.0109 - val_mae: 1.0109 - val_mse: 3.5029\n",
            "Epoch 426/500\n",
            "10/10 [==============================] - 0s 4ms/step - loss: 1.2151 - mae: 1.2151 - mse: 5.0782 - val_loss: 1.0091 - val_mae: 1.0091 - val_mse: 3.5034\n",
            "Epoch 427/500\n",
            "10/10 [==============================] - 0s 5ms/step - loss: 1.2145 - mae: 1.2145 - mse: 5.0771 - val_loss: 1.0095 - val_mae: 1.0095 - val_mse: 3.4984\n",
            "Epoch 428/500\n",
            "10/10 [==============================] - 0s 5ms/step - loss: 1.2140 - mae: 1.2140 - mse: 5.0722 - val_loss: 1.0090 - val_mae: 1.0090 - val_mse: 3.4959\n",
            "Epoch 429/500\n",
            "10/10 [==============================] - 0s 4ms/step - loss: 1.2133 - mae: 1.2133 - mse: 5.0682 - val_loss: 1.0080 - val_mae: 1.0080 - val_mse: 3.4943\n",
            "Epoch 430/500\n",
            "10/10 [==============================] - 0s 4ms/step - loss: 1.2126 - mae: 1.2126 - mse: 5.0658 - val_loss: 1.0073 - val_mae: 1.0073 - val_mse: 3.4919\n",
            "Epoch 431/500\n",
            "10/10 [==============================] - 0s 5ms/step - loss: 1.2121 - mae: 1.2121 - mse: 5.0642 - val_loss: 1.0065 - val_mae: 1.0065 - val_mse: 3.4902\n",
            "Epoch 432/500\n",
            "10/10 [==============================] - 0s 4ms/step - loss: 1.2115 - mae: 1.2115 - mse: 5.0622 - val_loss: 1.0067 - val_mae: 1.0067 - val_mse: 3.4861\n",
            "Epoch 433/500\n",
            "10/10 [==============================] - 0s 4ms/step - loss: 1.2110 - mae: 1.2110 - mse: 5.0593 - val_loss: 1.0060 - val_mae: 1.0060 - val_mse: 3.4838\n",
            "Epoch 434/500\n",
            "10/10 [==============================] - 0s 6ms/step - loss: 1.2105 - mae: 1.2105 - mse: 5.0544 - val_loss: 1.0050 - val_mae: 1.0050 - val_mse: 3.4821\n",
            "Epoch 435/500\n",
            "10/10 [==============================] - 0s 4ms/step - loss: 1.2101 - mae: 1.2101 - mse: 5.0570 - val_loss: 1.0039 - val_mae: 1.0039 - val_mse: 3.4812\n",
            "Epoch 436/500\n",
            "10/10 [==============================] - 0s 4ms/step - loss: 1.2094 - mae: 1.2094 - mse: 5.0547 - val_loss: 1.0034 - val_mae: 1.0034 - val_mse: 3.4786\n",
            "Epoch 437/500\n",
            "10/10 [==============================] - 0s 4ms/step - loss: 1.2092 - mae: 1.2092 - mse: 5.0472 - val_loss: 1.0044 - val_mae: 1.0044 - val_mse: 3.4728\n",
            "Epoch 438/500\n",
            "10/10 [==============================] - 0s 5ms/step - loss: 1.2081 - mae: 1.2081 - mse: 5.0446 - val_loss: 1.0022 - val_mae: 1.0022 - val_mse: 3.4736\n",
            "Epoch 439/500\n",
            "10/10 [==============================] - 0s 4ms/step - loss: 1.2076 - mae: 1.2076 - mse: 5.0443 - val_loss: 1.0023 - val_mae: 1.0023 - val_mse: 3.4691\n",
            "Epoch 440/500\n",
            "10/10 [==============================] - 0s 5ms/step - loss: 1.2069 - mae: 1.2069 - mse: 5.0398 - val_loss: 1.0023 - val_mae: 1.0023 - val_mse: 3.4657\n",
            "Epoch 441/500\n",
            "10/10 [==============================] - 0s 4ms/step - loss: 1.2063 - mae: 1.2063 - mse: 5.0359 - val_loss: 1.0008 - val_mae: 1.0008 - val_mse: 3.4652\n",
            "Epoch 442/500\n",
            "10/10 [==============================] - 0s 5ms/step - loss: 1.2061 - mae: 1.2061 - mse: 5.0389 - val_loss: 0.9997 - val_mae: 0.9997 - val_mse: 3.4642\n",
            "Epoch 443/500\n",
            "10/10 [==============================] - 0s 4ms/step - loss: 1.2052 - mae: 1.2052 - mse: 5.0336 - val_loss: 1.0001 - val_mae: 1.0001 - val_mse: 3.4589\n",
            "Epoch 444/500\n",
            "10/10 [==============================] - 0s 4ms/step - loss: 1.2044 - mae: 1.2044 - mse: 5.0287 - val_loss: 0.9988 - val_mae: 0.9988 - val_mse: 3.4585\n",
            "Epoch 445/500\n",
            "10/10 [==============================] - 0s 4ms/step - loss: 1.2044 - mae: 1.2044 - mse: 5.0319 - val_loss: 0.9979 - val_mae: 0.9979 - val_mse: 3.4569\n",
            "Epoch 446/500\n",
            "10/10 [==============================] - 0s 4ms/step - loss: 1.2034 - mae: 1.2034 - mse: 5.0249 - val_loss: 0.9986 - val_mae: 0.9986 - val_mse: 3.4511\n",
            "Epoch 447/500\n",
            "10/10 [==============================] - 0s 4ms/step - loss: 1.2031 - mae: 1.2031 - mse: 5.0219 - val_loss: 0.9980 - val_mae: 0.9980 - val_mse: 3.4485\n",
            "Epoch 448/500\n",
            "10/10 [==============================] - 0s 4ms/step - loss: 1.2024 - mae: 1.2024 - mse: 5.0183 - val_loss: 0.9969 - val_mae: 0.9969 - val_mse: 3.4470\n",
            "Epoch 449/500\n",
            "10/10 [==============================] - 0s 4ms/step - loss: 1.2018 - mae: 1.2018 - mse: 5.0139 - val_loss: 0.9963 - val_mae: 0.9963 - val_mse: 3.4443\n",
            "Epoch 450/500\n",
            "10/10 [==============================] - 0s 4ms/step - loss: 1.2012 - mae: 1.2012 - mse: 5.0165 - val_loss: 0.9951 - val_mae: 0.9951 - val_mse: 3.4436\n",
            "Epoch 451/500\n",
            "10/10 [==============================] - 0s 4ms/step - loss: 1.2005 - mae: 1.2005 - mse: 5.0103 - val_loss: 0.9952 - val_mae: 0.9952 - val_mse: 3.4392\n",
            "Epoch 452/500\n",
            "10/10 [==============================] - 0s 5ms/step - loss: 1.1999 - mae: 1.1999 - mse: 5.0085 - val_loss: 0.9940 - val_mae: 0.9940 - val_mse: 3.4381\n",
            "Epoch 453/500\n",
            "10/10 [==============================] - 0s 4ms/step - loss: 1.1999 - mae: 1.1999 - mse: 5.0042 - val_loss: 0.9956 - val_mae: 0.9956 - val_mse: 3.4315\n",
            "Epoch 454/500\n",
            "10/10 [==============================] - 0s 5ms/step - loss: 1.1989 - mae: 1.1989 - mse: 5.0028 - val_loss: 0.9928 - val_mae: 0.9928 - val_mse: 3.4333\n",
            "Epoch 455/500\n",
            "10/10 [==============================] - 0s 5ms/step - loss: 1.1982 - mae: 1.1982 - mse: 5.0026 - val_loss: 0.9926 - val_mae: 0.9926 - val_mse: 3.4296\n",
            "Epoch 456/500\n",
            "10/10 [==============================] - 0s 4ms/step - loss: 1.1973 - mae: 1.1973 - mse: 4.9954 - val_loss: 0.9922 - val_mae: 0.9922 - val_mse: 3.4264\n",
            "Epoch 457/500\n",
            "10/10 [==============================] - 0s 4ms/step - loss: 1.1967 - mae: 1.1967 - mse: 4.9932 - val_loss: 0.9912 - val_mae: 0.9912 - val_mse: 3.4249\n",
            "Epoch 458/500\n",
            "10/10 [==============================] - 0s 4ms/step - loss: 1.1962 - mae: 1.1962 - mse: 4.9927 - val_loss: 0.9907 - val_mae: 0.9907 - val_mse: 3.4220\n",
            "Epoch 459/500\n",
            "10/10 [==============================] - 0s 5ms/step - loss: 1.1955 - mae: 1.1955 - mse: 4.9879 - val_loss: 0.9901 - val_mae: 0.9901 - val_mse: 3.4194\n",
            "Epoch 460/500\n",
            "10/10 [==============================] - 0s 5ms/step - loss: 1.1950 - mae: 1.1950 - mse: 4.9867 - val_loss: 0.9891 - val_mae: 0.9891 - val_mse: 3.4179\n",
            "Epoch 461/500\n",
            "10/10 [==============================] - 0s 4ms/step - loss: 1.1946 - mae: 1.1946 - mse: 4.9864 - val_loss: 0.9886 - val_mae: 0.9886 - val_mse: 3.4149\n",
            "Epoch 462/500\n",
            "10/10 [==============================] - 0s 5ms/step - loss: 1.1941 - mae: 1.1941 - mse: 4.9770 - val_loss: 0.9903 - val_mae: 0.9903 - val_mse: 3.4085\n",
            "Epoch 463/500\n",
            "10/10 [==============================] - 0s 4ms/step - loss: 1.1933 - mae: 1.1933 - mse: 4.9739 - val_loss: 0.9874 - val_mae: 0.9874 - val_mse: 3.4100\n",
            "Epoch 464/500\n",
            "10/10 [==============================] - 0s 4ms/step - loss: 1.1928 - mae: 1.1928 - mse: 4.9793 - val_loss: 0.9863 - val_mae: 0.9863 - val_mse: 3.4088\n",
            "Epoch 465/500\n",
            "10/10 [==============================] - 0s 4ms/step - loss: 1.1921 - mae: 1.1921 - mse: 4.9772 - val_loss: 0.9860 - val_mae: 0.9860 - val_mse: 3.4054\n",
            "Epoch 466/500\n",
            "10/10 [==============================] - 0s 5ms/step - loss: 1.1917 - mae: 1.1917 - mse: 4.9684 - val_loss: 0.9864 - val_mae: 0.9864 - val_mse: 3.4003\n",
            "Epoch 467/500\n",
            "10/10 [==============================] - 0s 4ms/step - loss: 1.1908 - mae: 1.1908 - mse: 4.9663 - val_loss: 0.9857 - val_mae: 0.9857 - val_mse: 3.3981\n",
            "Epoch 468/500\n",
            "10/10 [==============================] - 0s 4ms/step - loss: 1.1903 - mae: 1.1903 - mse: 4.9654 - val_loss: 0.9848 - val_mae: 0.9848 - val_mse: 3.3957\n",
            "Epoch 469/500\n",
            "10/10 [==============================] - 0s 5ms/step - loss: 1.1893 - mae: 1.1893 - mse: 4.9614 - val_loss: 0.9841 - val_mae: 0.9841 - val_mse: 3.3934\n",
            "Epoch 470/500\n",
            "10/10 [==============================] - 0s 6ms/step - loss: 1.1890 - mae: 1.1890 - mse: 4.9578 - val_loss: 0.9833 - val_mae: 0.9833 - val_mse: 3.3911\n",
            "Epoch 471/500\n",
            "10/10 [==============================] - 0s 5ms/step - loss: 1.1881 - mae: 1.1881 - mse: 4.9550 - val_loss: 0.9837 - val_mae: 0.9837 - val_mse: 3.3870\n",
            "Epoch 472/500\n",
            "10/10 [==============================] - 0s 4ms/step - loss: 1.1876 - mae: 1.1876 - mse: 4.9508 - val_loss: 0.9819 - val_mae: 0.9819 - val_mse: 3.3866\n",
            "Epoch 473/500\n",
            "10/10 [==============================] - 0s 4ms/step - loss: 1.1868 - mae: 1.1868 - mse: 4.9499 - val_loss: 0.9818 - val_mae: 0.9818 - val_mse: 3.3829\n",
            "Epoch 474/500\n",
            "10/10 [==============================] - 0s 5ms/step - loss: 1.1864 - mae: 1.1864 - mse: 4.9468 - val_loss: 0.9807 - val_mae: 0.9807 - val_mse: 3.3812\n",
            "Epoch 475/500\n",
            "10/10 [==============================] - 0s 4ms/step - loss: 1.1858 - mae: 1.1858 - mse: 4.9426 - val_loss: 0.9803 - val_mae: 0.9803 - val_mse: 3.3782\n",
            "Epoch 476/500\n",
            "10/10 [==============================] - 0s 4ms/step - loss: 1.1856 - mae: 1.1856 - mse: 4.9466 - val_loss: 0.9785 - val_mae: 0.9785 - val_mse: 3.3788\n",
            "Epoch 477/500\n",
            "10/10 [==============================] - 0s 4ms/step - loss: 1.1846 - mae: 1.1846 - mse: 4.9421 - val_loss: 0.9792 - val_mae: 0.9792 - val_mse: 3.3725\n",
            "Epoch 478/500\n",
            "10/10 [==============================] - 0s 5ms/step - loss: 1.1837 - mae: 1.1837 - mse: 4.9356 - val_loss: 0.9780 - val_mae: 0.9780 - val_mse: 3.3712\n",
            "Epoch 479/500\n",
            "10/10 [==============================] - 0s 5ms/step - loss: 1.1831 - mae: 1.1831 - mse: 4.9337 - val_loss: 0.9784 - val_mae: 0.9784 - val_mse: 3.3667\n",
            "Epoch 480/500\n",
            "10/10 [==============================] - 0s 4ms/step - loss: 1.1827 - mae: 1.1827 - mse: 4.9282 - val_loss: 0.9768 - val_mae: 0.9768 - val_mse: 3.3659\n",
            "Epoch 481/500\n",
            "10/10 [==============================] - 0s 4ms/step - loss: 1.1818 - mae: 1.1818 - mse: 4.9291 - val_loss: 0.9763 - val_mae: 0.9763 - val_mse: 3.3630\n",
            "Epoch 482/500\n",
            "10/10 [==============================] - 0s 4ms/step - loss: 1.1812 - mae: 1.1812 - mse: 4.9234 - val_loss: 0.9758 - val_mae: 0.9758 - val_mse: 3.3601\n",
            "Epoch 483/500\n",
            "10/10 [==============================] - 0s 6ms/step - loss: 1.1805 - mae: 1.1805 - mse: 4.9205 - val_loss: 0.9752 - val_mae: 0.9752 - val_mse: 3.3576\n",
            "Epoch 484/500\n",
            "10/10 [==============================] - 0s 4ms/step - loss: 1.1797 - mae: 1.1797 - mse: 4.9187 - val_loss: 0.9747 - val_mae: 0.9747 - val_mse: 3.3548\n",
            "Epoch 485/500\n",
            "10/10 [==============================] - 0s 4ms/step - loss: 1.1793 - mae: 1.1793 - mse: 4.9163 - val_loss: 0.9732 - val_mae: 0.9732 - val_mse: 3.3543\n",
            "Epoch 486/500\n",
            "10/10 [==============================] - 0s 6ms/step - loss: 1.1795 - mae: 1.1795 - mse: 4.9123 - val_loss: 0.9740 - val_mae: 0.9740 - val_mse: 3.3485\n",
            "Epoch 487/500\n",
            "10/10 [==============================] - 0s 5ms/step - loss: 1.1777 - mae: 1.1777 - mse: 4.9101 - val_loss: 0.9720 - val_mae: 0.9720 - val_mse: 3.3487\n",
            "Epoch 488/500\n",
            "10/10 [==============================] - 0s 5ms/step - loss: 1.1776 - mae: 1.1776 - mse: 4.9109 - val_loss: 0.9720 - val_mae: 0.9720 - val_mse: 3.3445\n",
            "Epoch 489/500\n",
            "10/10 [==============================] - 0s 4ms/step - loss: 1.1769 - mae: 1.1769 - mse: 4.9086 - val_loss: 0.9704 - val_mae: 0.9704 - val_mse: 3.3445\n",
            "Epoch 490/500\n",
            "10/10 [==============================] - 0s 4ms/step - loss: 1.1760 - mae: 1.1760 - mse: 4.9043 - val_loss: 0.9709 - val_mae: 0.9709 - val_mse: 3.3390\n",
            "Epoch 491/500\n",
            "10/10 [==============================] - 0s 4ms/step - loss: 1.1753 - mae: 1.1753 - mse: 4.8987 - val_loss: 0.9700 - val_mae: 0.9700 - val_mse: 3.3367\n",
            "Epoch 492/500\n",
            "10/10 [==============================] - 0s 5ms/step - loss: 1.1750 - mae: 1.1750 - mse: 4.8998 - val_loss: 0.9687 - val_mae: 0.9687 - val_mse: 3.3360\n",
            "Epoch 493/500\n",
            "10/10 [==============================] - 0s 4ms/step - loss: 1.1738 - mae: 1.1738 - mse: 4.8938 - val_loss: 0.9699 - val_mae: 0.9699 - val_mse: 3.3300\n",
            "Epoch 494/500\n",
            "10/10 [==============================] - 0s 4ms/step - loss: 1.1738 - mae: 1.1738 - mse: 4.8870 - val_loss: 0.9680 - val_mae: 0.9680 - val_mse: 3.3290\n",
            "Epoch 495/500\n",
            "10/10 [==============================] - 0s 4ms/step - loss: 1.1729 - mae: 1.1729 - mse: 4.8908 - val_loss: 0.9667 - val_mae: 0.9667 - val_mse: 3.3282\n",
            "Epoch 496/500\n",
            "10/10 [==============================] - 0s 4ms/step - loss: 1.1721 - mae: 1.1721 - mse: 4.8859 - val_loss: 0.9666 - val_mae: 0.9666 - val_mse: 3.3241\n",
            "Epoch 497/500\n",
            "10/10 [==============================] - 0s 4ms/step - loss: 1.1713 - mae: 1.1713 - mse: 4.8832 - val_loss: 0.9662 - val_mae: 0.9662 - val_mse: 3.3210\n",
            "Epoch 498/500\n",
            "10/10 [==============================] - 0s 4ms/step - loss: 1.1706 - mae: 1.1706 - mse: 4.8799 - val_loss: 0.9649 - val_mae: 0.9649 - val_mse: 3.3199\n",
            "Epoch 499/500\n",
            "10/10 [==============================] - 0s 4ms/step - loss: 1.1701 - mae: 1.1701 - mse: 4.8800 - val_loss: 0.9644 - val_mae: 0.9644 - val_mse: 3.3169\n",
            "Epoch 500/500\n",
            "10/10 [==============================] - 0s 4ms/step - loss: 1.1695 - mae: 1.1695 - mse: 4.8730 - val_loss: 0.9641 - val_mae: 0.9641 - val_mse: 3.3134\n"
          ],
          "name": "stdout"
        }
      ]
    },
    {
      "cell_type": "code",
      "metadata": {
        "id": "E7TfKCujE6jn",
        "colab": {
          "base_uri": "https://localhost:8080/",
          "height": 1000
        },
        "outputId": "c276b45f-5828-4eac-8292-bce91505a345"
      },
      "source": [
        "def curvePlots(tempString):\n",
        "  plt.plot(history.history[tempString])\n",
        "  plt.plot(history.history[f'val_{tempString}'])\n",
        "  plt.xlabel('NumEpochs')\n",
        "  plt.ylabel(tempString)\n",
        "  plt.legend([tempString, f'val_{tempString}'])\n",
        "  plt.show()\n",
        "\n",
        "\n",
        "curvePlots('mse')\n",
        "curvePlots('mae')\n",
        "curvePlots('loss')"
      ],
      "execution_count": 19,
      "outputs": [
        {
          "output_type": "display_data",
          "data": {
            "image/png": "[encoded data removed]",
            "text/plain": [
              "<Figure size 576x396 with 1 Axes>"
            ]
          },
          "metadata": {
            "tags": []
          }
        },
        {
          "output_type": "display_data",
          "data": {
            "image/png": "[encoded data removed]",
            "text/plain": [
              "<Figure size 576x396 with 1 Axes>"
            ]
          },
          "metadata": {
            "tags": []
          }
        },
        {
          "output_type": "display_data",
          "data": {
            "image/png": "[encoded data removed]",
            "text/plain": [
              "<Figure size 576x396 with 1 Axes>"
            ]
          },
          "metadata": {
            "tags": []
          }
        }
      ]
    },
    {
      "cell_type": "code",
      "metadata": {
        "id": "g-piWYwGFdph",
        "colab": {
          "base_uri": "https://localhost:8080/"
        },
        "outputId": "1e671e0f-1273-4574-e2f2-aed29a22ef6e"
      },
      "source": [
        "testPreds = model.predict(testFeatures).flatten()\n",
        "print(testPreds)"
      ],
      "execution_count": 20,
      "outputs": [
        {
          "output_type": "stream",
          "text": [
            "[14.821061   9.354709  11.1768265 15.73212   15.73212   12.087885\n",
            " 12.998943  17.554237  18.465294  10.265767  14.821061  14.821061\n",
            "  6.621533   6.621533  10.265767  13.910003  10.265767  16.643177\n",
            "  9.354709  11.1768265 14.821061  13.910003  12.998943  13.910003\n",
            "  8.44365    4.7994156  1.1551809 11.1768265 12.998943  10.265767\n",
            " 11.1768265 11.1768265 11.1768265  5.710474   9.354709  12.087885\n",
            "  8.44365    9.354709  14.821061   9.354709   9.354709   6.621533\n",
            " 12.087885   1.1551809 12.087885   1.1551809 10.265767  11.1768265\n",
            " 12.087885  16.643177  10.265767  13.910003   9.354709  10.265767\n",
            " 13.910003  11.1768265 14.821061  12.087885  12.998943   9.354709\n",
            " 13.910003   8.44365   14.821061   8.44365   14.821061  12.087885\n",
            " 14.821061  14.821061   7.532592   7.532592  12.087885  15.73212\n",
            " 12.087885  14.821061  10.265767   6.621533  10.265767   6.621533\n",
            " 12.087885 ]\n"
          ],
          "name": "stdout"
        }
      ]
    },
    {
      "cell_type": "code",
      "metadata": {
        "id": "ew_6Qrx1Fmvz",
        "colab": {
          "base_uri": "https://localhost:8080/",
          "height": 361
        },
        "outputId": "08de9231-6505-4424-daf6-609d13f15817"
      },
      "source": [
        "def predPlot(labels, predictions):\n",
        "  plt.scatter(labels, predictions)\n",
        "  plt.ylabel('Predictions')\n",
        "  plt.xlabel('True Value or Labels')\n",
        "  plt.axis('equal')\n",
        "  plt.axis('square')\n",
        "  plt.xlim([0, plt.xlim()[1]])\n",
        "  plt.ylim([0, plt.ylim()[1]])\n",
        "  plt.show()\n",
        "\n",
        "predPlot(testLabels, testPreds)"
      ],
      "execution_count": 21,
      "outputs": [
        {
          "output_type": "display_data",
          "data": {
            "image/png": "[encoded data removed]",
            "text/plain": [
              "<Figure size 576x396 with 1 Axes>"
            ]
          },
          "metadata": {
            "tags": []
          }
        }
      ]
    },
    {
      "cell_type": "code",
      "metadata": {
        "id": "Ette70MSFqwP",
        "colab": {
          "base_uri": "https://localhost:8080/",
          "height": 361
        },
        "outputId": "7d1d7e94-3f42-422a-b0f7-aea62943d3e6"
      },
      "source": [
        "def errorPlot(preds, labels, counts):\n",
        "  errors = preds - labels\n",
        "  plt.hist(errors, counts)\n",
        "  plt.xlabel('Error')\n",
        "  plt.ylabel('Counts')\n",
        "  plt.show()\n",
        "\n",
        "errorPlot(testPreds, testLabels, numEpochs)"
      ],
      "execution_count": 22,
      "outputs": [
        {
          "output_type": "display_data",
          "data": {
            "image/png": "[encoded data removed]",
            "text/plain": [
              "<Figure size 576x396 with 1 Axes>"
            ]
          },
          "metadata": {
            "tags": []
          }
        }
      ]
    }
  ]
}